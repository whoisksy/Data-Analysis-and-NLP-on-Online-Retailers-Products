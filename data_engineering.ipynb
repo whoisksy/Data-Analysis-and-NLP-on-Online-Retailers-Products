{
 "cells": [
  {
   "cell_type": "markdown",
   "metadata": {
    "colab_type": "text",
    "id": "upK_Y3nNXhe-"
   },
   "source": [
    "# Description\n",
    "\n",
    "* Dataset of products from different online fashion retailers\n",
    "* Below are tasks performed on this data:\n",
    "    1. Handling null values.\n",
    "    2. Discard records with invalid IDs.\n",
    "    3. Feature extraction from columns 'price', 'brand' and 'media'.\n",
    "    4. Data pre-processing on new features.\n",
    "    5. Removing product with offer price greater than regular price.\n",
    "    6. Check on outliers and dropping them.\n",
    "    7. Removing records with invalid URLs.\n",
    "    8. Data visualization.\n",
    "    9. NLP on product description.\n",
    "    10. Unsupervised clustering."
   ]
  },
  {
   "cell_type": "markdown",
   "metadata": {
    "colab_type": "text",
    "id": "VG-aFtnpaN2D"
   },
   "source": [
    "### Importing required libraries"
   ]
  },
  {
   "cell_type": "code",
   "execution_count": 0,
   "metadata": {
    "colab": {
     "base_uri": "https://localhost:8080/",
     "height": 119
    },
    "colab_type": "code",
    "id": "B5IOv3VPY360",
    "outputId": "933f5ad4-d12f-44a4-a1ed-f5c1ade33649"
   },
   "outputs": [
    {
     "name": "stdout",
     "output_type": "stream",
     "text": [
      "[nltk_data] Downloading package punkt to /root/nltk_data...\n",
      "[nltk_data]   Package punkt is already up-to-date!\n",
      "[nltk_data] Downloading package stopwords to /root/nltk_data...\n",
      "[nltk_data]   Package stopwords is already up-to-date!\n",
      "[nltk_data] Downloading package wordnet to /root/nltk_data...\n",
      "[nltk_data]   Package wordnet is already up-to-date!\n"
     ]
    }
   ],
   "source": [
    "import numpy as np\n",
    "import pandas as pd\n",
    "from pandas.io.json import json_normalize\n",
    "\n",
    "import matplotlib.pyplot as plt\n",
    "import seaborn as sns\n",
    "\n",
    "import urllib\n",
    "from urllib.parse import urlparse\n",
    "\n",
    "import nltk\n",
    "nltk.download('punkt')\n",
    "nltk.download('stopwords')\n",
    "nltk.download('wordnet')\n",
    "from nltk.tokenize import word_tokenize\n",
    "from nltk.corpus import stopwords\n",
    "from nltk.stem import WordNetLemmatizer\n",
    "\n",
    "from wordcloud import WordCloud\n",
    "from IPython.display import Image\n",
    "from IPython.core.display import HTML\n",
    "\n",
    "from sklearn import preprocessing\n",
    "from sklearn.cluster import DBSCAN"
   ]
  },
  {
   "cell_type": "markdown",
   "metadata": {
    "colab_type": "text",
    "id": "wQ967EL4aYWh"
   },
   "source": [
    "### Mount google drive"
   ]
  },
  {
   "cell_type": "code",
   "execution_count": 0,
   "metadata": {
    "colab": {
     "base_uri": "https://localhost:8080/",
     "height": 34
    },
    "colab_type": "code",
    "id": "6viTsl8DaW0Z",
    "outputId": "1d5b76bd-4733-419c-b85d-f0ee41daa881"
   },
   "outputs": [
    {
     "name": "stdout",
     "output_type": "stream",
     "text": [
      "Drive already mounted at /content/gdrive; to attempt to forcibly remount, call drive.mount(\"/content/gdrive\", force_remount=True).\n"
     ]
    }
   ],
   "source": [
    "from google.colab import drive\n",
    "drive.mount('/content/gdrive')\n",
    "path = '/content/gdrive/My Drive/'"
   ]
  },
  {
   "cell_type": "markdown",
   "metadata": {
    "colab_type": "text",
    "id": "Nl10DM28awPD"
   },
   "source": [
    "### Importing data"
   ]
  },
  {
   "cell_type": "code",
   "execution_count": 74,
   "metadata": {
    "colab": {
     "base_uri": "https://localhost:8080/",
     "height": 530
    },
    "colab_type": "code",
    "id": "EeOqnvTEa5gt",
    "outputId": "46b251b0-d045-4afb-fab7-706103ca62cf"
   },
   "outputs": [
    {
     "name": "stderr",
     "output_type": "stream",
     "text": [
      "/usr/local/lib/python3.6/dist-packages/IPython/core/interactiveshell.py:2718: DtypeWarning: Columns (4) have mixed types. Specify dtype option on import or set low_memory=False.\n",
      "  interactivity=interactivity, compiler=compiler, result=result)\n"
     ]
    },
    {
     "data": {
      "text/html": [
       "<div>\n",
       "<style scoped>\n",
       "    .dataframe tbody tr th:only-of-type {\n",
       "        vertical-align: middle;\n",
       "    }\n",
       "\n",
       "    .dataframe tbody tr th {\n",
       "        vertical-align: top;\n",
       "    }\n",
       "\n",
       "    .dataframe thead th {\n",
       "        text-align: right;\n",
       "    }\n",
       "</style>\n",
       "<table border=\"1\" class=\"dataframe\">\n",
       "  <thead>\n",
       "    <tr style=\"text-align: right;\">\n",
       "      <th></th>\n",
       "      <th>_id</th>\n",
       "      <th>name</th>\n",
       "      <th>price</th>\n",
       "      <th>website_id</th>\n",
       "      <th>sku</th>\n",
       "      <th>url</th>\n",
       "      <th>brand</th>\n",
       "      <th>media</th>\n",
       "      <th>description_text</th>\n",
       "    </tr>\n",
       "  </thead>\n",
       "  <tbody>\n",
       "    <tr>\n",
       "      <th>0</th>\n",
       "      <td>5d0b8aca0db7220b86cb4035</td>\n",
       "      <td>Joules Top Dog Underwear Three Pack</td>\n",
       "      <td>{'offer_price': {'currency': 'GBP', 'value': 3...</td>\n",
       "      <td>5cff5e7fe40f4900046735fa</td>\n",
       "      <td>312838</td>\n",
       "      <td>www.next.co.uk/style/st355408#312838</td>\n",
       "      <td>{'name': 'joules', 'sub_brand': ''}</td>\n",
       "      <td>{'standard': [{'order': 1, 'url': 'https://xcd...</td>\n",
       "      <td>95% Cotton, 5% Elastane.</td>\n",
       "    </tr>\n",
       "    <tr>\n",
       "      <th>1</th>\n",
       "      <td>5d0b8aca0db7220b86cb4036</td>\n",
       "      <td>Figleaves Cheetah Satin Pyjama Set</td>\n",
       "      <td>{'offer_price': {'currency': 'GBP', 'value': 2...</td>\n",
       "      <td>5cff5e7fe40f4900046735fa</td>\n",
       "      <td>319571</td>\n",
       "      <td>https://www.next.co.uk/style/st324987#319571</td>\n",
       "      <td>{'name': 'figleaves', 'sub_brand': ''}</td>\n",
       "      <td>{'standard': [{'order': 1, 'url': 'https://xcd...</td>\n",
       "      <td>100% Polyester.</td>\n",
       "    </tr>\n",
       "    <tr>\n",
       "      <th>2</th>\n",
       "      <td>5d0b8aca0db7220b86cb4037</td>\n",
       "      <td>Nike Solid 4\" Swim Short</td>\n",
       "      <td>{'offer_price': {'currency': 'GBP', 'value': 1...</td>\n",
       "      <td>5cff5e7fe40f4900046735fa</td>\n",
       "      <td>335026</td>\n",
       "      <td>https://www.next.co.uk/style/st400645#335026</td>\n",
       "      <td>{'name': 'nike', 'sub_brand': ''}</td>\n",
       "      <td>{'standard': [{'order': 1, 'url': 'https://xcd...</td>\n",
       "      <td>Nike Swim Boys' Solid Lap 4 Volley Short is a ...</td>\n",
       "    </tr>\n",
       "    <tr>\n",
       "      <th>3</th>\n",
       "      <td>5d0b8aca0db7220b86cb4038</td>\n",
       "      <td>Collection Luxe Orchid</td>\n",
       "      <td>{'offer_price': {'currency': 'GBP', 'value': 1...</td>\n",
       "      <td>5cff5e7fe40f4900046735fa</td>\n",
       "      <td>552266</td>\n",
       "      <td>https://www.next.co.uk/style/st262195#552266</td>\n",
       "      <td>{'name': 'next', 'sub_brand': ''}</td>\n",
       "      <td>{'standard': [{'order': 1, 'url': 'https://xcd...</td>\n",
       "      <td>Height 85cm</td>\n",
       "    </tr>\n",
       "    <tr>\n",
       "      <th>4</th>\n",
       "      <td>5d0b8aca0db7220b86cb4039</td>\n",
       "      <td>River Island White Sleeveless Blazer</td>\n",
       "      <td>{'offer_price': {'currency': 'GBP', 'value': 5...</td>\n",
       "      <td>5cff5e7fe40f4900046735fa</td>\n",
       "      <td>680971</td>\n",
       "      <td>https://www.next.co.uk/style/st440132#680971</td>\n",
       "      <td>{'name': 'river island', 'sub_brand': ''}</td>\n",
       "      <td>{'standard': [{'order': 1, 'url': 'https://xcd...</td>\n",
       "      <td>100% Polyester.</td>\n",
       "    </tr>\n",
       "  </tbody>\n",
       "</table>\n",
       "</div>"
      ],
      "text/plain": [
       "                        _id  ...                                   description_text\n",
       "0  5d0b8aca0db7220b86cb4035  ...                           95% Cotton, 5% Elastane.\n",
       "1  5d0b8aca0db7220b86cb4036  ...                                    100% Polyester.\n",
       "2  5d0b8aca0db7220b86cb4037  ...  Nike Swim Boys' Solid Lap 4 Volley Short is a ...\n",
       "3  5d0b8aca0db7220b86cb4038  ...                                        Height 85cm\n",
       "4  5d0b8aca0db7220b86cb4039  ...                                    100% Polyester.\n",
       "\n",
       "[5 rows x 9 columns]"
      ]
     },
     "execution_count": 74,
     "metadata": {
      "tags": []
     },
     "output_type": "execute_result"
    }
   ],
   "source": [
    "data = pd.read_csv(path+'data_engineering_assignment.txt', sep='|', error_bad_lines=False, warn_bad_lines=False)\n",
    "data.head()"
   ]
  },
  {
   "cell_type": "markdown",
   "metadata": {
    "colab_type": "text",
    "id": "EOtdVCkT4TUL"
   },
   "source": [
    "### Check for Null Values"
   ]
  },
  {
   "cell_type": "code",
   "execution_count": 0,
   "metadata": {
    "colab": {
     "base_uri": "https://localhost:8080/",
     "height": 187
    },
    "colab_type": "code",
    "id": "K0FXpr-oMGc4",
    "outputId": "aca5b529-1358-446b-e715-cde1c2536352"
   },
   "outputs": [
    {
     "data": {
      "text/plain": [
       "_id                    0\n",
       "name                5163\n",
       "price               5163\n",
       "website_id          5163\n",
       "sku                 5576\n",
       "url                 5163\n",
       "brand               5163\n",
       "media               5163\n",
       "description_text    5631\n",
       "dtype: int64"
      ]
     },
     "execution_count": 4,
     "metadata": {
      "tags": []
     },
     "output_type": "execute_result"
    }
   ],
   "source": [
    "data.isna().sum()"
   ]
  },
  {
   "cell_type": "markdown",
   "metadata": {
    "colab_type": "text",
    "id": "QNXjeHxY4hN2"
   },
   "source": [
    "#### Invalid IDs values and all missing values for other features of it"
   ]
  },
  {
   "cell_type": "code",
   "execution_count": 0,
   "metadata": {
    "colab": {
     "base_uri": "https://localhost:8080/",
     "height": 204
    },
    "colab_type": "code",
    "id": "-BCQSIgsI8B-",
    "outputId": "2378811e-45af-4451-b278-2279080df02c"
   },
   "outputs": [
    {
     "data": {
      "text/html": [
       "<div>\n",
       "<style scoped>\n",
       "    .dataframe tbody tr th:only-of-type {\n",
       "        vertical-align: middle;\n",
       "    }\n",
       "\n",
       "    .dataframe tbody tr th {\n",
       "        vertical-align: top;\n",
       "    }\n",
       "\n",
       "    .dataframe thead th {\n",
       "        text-align: right;\n",
       "    }\n",
       "</style>\n",
       "<table border=\"1\" class=\"dataframe\">\n",
       "  <thead>\n",
       "    <tr style=\"text-align: right;\">\n",
       "      <th></th>\n",
       "      <th>_id</th>\n",
       "      <th>name</th>\n",
       "      <th>price</th>\n",
       "      <th>website_id</th>\n",
       "      <th>sku</th>\n",
       "      <th>url</th>\n",
       "      <th>brand</th>\n",
       "      <th>media</th>\n",
       "      <th>description_text</th>\n",
       "    </tr>\n",
       "  </thead>\n",
       "  <tbody>\n",
       "    <tr>\n",
       "      <th>16</th>\n",
       "      <td>Canvas upper with TOMS toe-stitch, and elastic...</td>\n",
       "      <td>NaN</td>\n",
       "      <td>NaN</td>\n",
       "      <td>NaN</td>\n",
       "      <td>NaN</td>\n",
       "      <td>NaN</td>\n",
       "      <td>NaN</td>\n",
       "      <td>NaN</td>\n",
       "      <td>NaN</td>\n",
       "    </tr>\n",
       "    <tr>\n",
       "      <th>17</th>\n",
       "      <td>TOMS classic suede insole with cushion for com...</td>\n",
       "      <td>NaN</td>\n",
       "      <td>NaN</td>\n",
       "      <td>NaN</td>\n",
       "      <td>NaN</td>\n",
       "      <td>NaN</td>\n",
       "      <td>NaN</td>\n",
       "      <td>NaN</td>\n",
       "      <td>NaN</td>\n",
       "    </tr>\n",
       "    <tr>\n",
       "      <th>18</th>\n",
       "      <td>Latex arch insert for added support</td>\n",
       "      <td>NaN</td>\n",
       "      <td>NaN</td>\n",
       "      <td>NaN</td>\n",
       "      <td>NaN</td>\n",
       "      <td>NaN</td>\n",
       "      <td>NaN</td>\n",
       "      <td>NaN</td>\n",
       "      <td>NaN</td>\n",
       "    </tr>\n",
       "    <tr>\n",
       "      <th>19</th>\n",
       "      <td>One-piece outsole for flexibility and durability</td>\n",
       "      <td>NaN</td>\n",
       "      <td>NaN</td>\n",
       "      <td>NaN</td>\n",
       "      <td>NaN</td>\n",
       "      <td>NaN</td>\n",
       "      <td>NaN</td>\n",
       "      <td>NaN</td>\n",
       "      <td>NaN</td>\n",
       "    </tr>\n",
       "    <tr>\n",
       "      <th>20</th>\n",
       "      <td>With every pair of shoes you purchase, TOMS wi...</td>\n",
       "      <td>NaN</td>\n",
       "      <td>NaN</td>\n",
       "      <td>NaN</td>\n",
       "      <td>NaN</td>\n",
       "      <td>NaN</td>\n",
       "      <td>NaN</td>\n",
       "      <td>NaN</td>\n",
       "      <td>NaN</td>\n",
       "    </tr>\n",
       "  </tbody>\n",
       "</table>\n",
       "</div>"
      ],
      "text/plain": [
       "                                                  _id  ... description_text\n",
       "16  Canvas upper with TOMS toe-stitch, and elastic...  ...              NaN\n",
       "17  TOMS classic suede insole with cushion for com...  ...              NaN\n",
       "18                Latex arch insert for added support  ...              NaN\n",
       "19   One-piece outsole for flexibility and durability  ...              NaN\n",
       "20  With every pair of shoes you purchase, TOMS wi...  ...              NaN\n",
       "\n",
       "[5 rows x 9 columns]"
      ]
     },
     "execution_count": 5,
     "metadata": {
      "tags": []
     },
     "output_type": "execute_result"
    }
   ],
   "source": [
    "data[data.website_id.isna()].head()"
   ]
  },
  {
   "cell_type": "markdown",
   "metadata": {
    "colab_type": "text",
    "id": "7aOmKaFG49hl"
   },
   "source": [
    "* Dropping rows with invalid IDs"
   ]
  },
  {
   "cell_type": "code",
   "execution_count": 0,
   "metadata": {
    "colab": {
     "base_uri": "https://localhost:8080/",
     "height": 187
    },
    "colab_type": "code",
    "id": "NAl8WB7tMfvV",
    "outputId": "0b7959fe-8e5d-496f-d966-d0fcd1d948a0"
   },
   "outputs": [
    {
     "data": {
      "text/plain": [
       "_id                   0\n",
       "name                  0\n",
       "price                 0\n",
       "website_id            0\n",
       "sku                 413\n",
       "url                   0\n",
       "brand                 0\n",
       "media                 0\n",
       "description_text    468\n",
       "dtype: int64"
      ]
     },
     "execution_count": 6,
     "metadata": {
      "tags": []
     },
     "output_type": "execute_result"
    }
   ],
   "source": [
    "data.drop(data[data.website_id.isna()].index, axis=0, inplace=True)\n",
    "data = data.reset_index()\n",
    "data.drop('index', axis=1, inplace=True)\n",
    "data.isna().sum()"
   ]
  },
  {
   "cell_type": "markdown",
   "metadata": {
    "colab_type": "text",
    "id": "PJg2F6zB5aRN"
   },
   "source": [
    "#### Null values for SKU codes and Product description\n",
    "* Still we see few null values for SKU Codes and Product description.\n",
    "* We can replace them with value 'No SKU Code' and 'No description' and retain other feature for products for analysis"
   ]
  },
  {
   "cell_type": "code",
   "execution_count": 0,
   "metadata": {
    "colab": {
     "base_uri": "https://localhost:8080/",
     "height": 187
    },
    "colab_type": "code",
    "id": "emNPJHXnTq3r",
    "outputId": "dc489bc3-aace-475c-fd89-60219ec8c474"
   },
   "outputs": [
    {
     "data": {
      "text/plain": [
       "_id                 0\n",
       "name                0\n",
       "price               0\n",
       "website_id          0\n",
       "sku                 0\n",
       "url                 0\n",
       "brand               0\n",
       "media               0\n",
       "description_text    0\n",
       "dtype: int64"
      ]
     },
     "execution_count": 7,
     "metadata": {
      "tags": []
     },
     "output_type": "execute_result"
    }
   ],
   "source": [
    "data.loc[data.sku.isna(), 'sku'] = 'No SKU Code'\n",
    "data.loc[data.description_text.isna(), 'description_text'] = 'No description'\n",
    "data.isna().sum()"
   ]
  },
  {
   "cell_type": "markdown",
   "metadata": {
    "colab_type": "text",
    "id": "7EQNqbNF6Zf-"
   },
   "source": [
    "* A glance at shape of data we have"
   ]
  },
  {
   "cell_type": "code",
   "execution_count": 0,
   "metadata": {
    "colab": {
     "base_uri": "https://localhost:8080/",
     "height": 34
    },
    "colab_type": "code",
    "id": "5GAmgNwhyZnR",
    "outputId": "d4e659c5-8608-4723-836b-2d2948528408"
   },
   "outputs": [
    {
     "name": "stdout",
     "output_type": "stream",
     "text": [
      "Rows : 318278 Columns : 9\n"
     ]
    }
   ],
   "source": [
    "print('Rows :', data.shape[0], 'Columns :', data.shape[1])"
   ]
  },
  {
   "cell_type": "markdown",
   "metadata": {
    "colab_type": "text",
    "id": "gi8iW0qG7W9c"
   },
   "source": [
    "### Feature extraction from column 'price', 'brand', and 'media'\n",
    "* Data in this column are in JSON Objects\n",
    "* So, we can extract those key-values pairs and add them to features."
   ]
  },
  {
   "cell_type": "markdown",
   "metadata": {
    "colab_type": "text",
    "id": "yEnjXkPA84rU"
   },
   "source": [
    "#### Extracting from column 'price'"
   ]
  },
  {
   "cell_type": "code",
   "execution_count": 0,
   "metadata": {
    "colab": {
     "base_uri": "https://localhost:8080/",
     "height": 204
    },
    "colab_type": "code",
    "id": "XL1pQIhAHa2k",
    "outputId": "f20499dc-e4f5-4274-d0c1-d2c42b64ae71"
   },
   "outputs": [
    {
     "data": {
      "text/html": [
       "<div>\n",
       "<style scoped>\n",
       "    .dataframe tbody tr th:only-of-type {\n",
       "        vertical-align: middle;\n",
       "    }\n",
       "\n",
       "    .dataframe tbody tr th {\n",
       "        vertical-align: top;\n",
       "    }\n",
       "\n",
       "    .dataframe thead th {\n",
       "        text-align: right;\n",
       "    }\n",
       "</style>\n",
       "<table border=\"1\" class=\"dataframe\">\n",
       "  <thead>\n",
       "    <tr style=\"text-align: right;\">\n",
       "      <th></th>\n",
       "      <th>offer_price.currency</th>\n",
       "      <th>offer_price.value</th>\n",
       "      <th>regular_price.currency</th>\n",
       "      <th>regular_price.value</th>\n",
       "      <th>basket_price.value</th>\n",
       "      <th>basket_price.currency</th>\n",
       "    </tr>\n",
       "  </thead>\n",
       "  <tbody>\n",
       "    <tr>\n",
       "      <th>0</th>\n",
       "      <td>GBP</td>\n",
       "      <td>35.0</td>\n",
       "      <td>GBP</td>\n",
       "      <td>35.0</td>\n",
       "      <td>NaN</td>\n",
       "      <td>NaN</td>\n",
       "    </tr>\n",
       "    <tr>\n",
       "      <th>1</th>\n",
       "      <td>GBP</td>\n",
       "      <td>25.0</td>\n",
       "      <td>GBP</td>\n",
       "      <td>25.0</td>\n",
       "      <td>NaN</td>\n",
       "      <td>NaN</td>\n",
       "    </tr>\n",
       "    <tr>\n",
       "      <th>2</th>\n",
       "      <td>GBP</td>\n",
       "      <td>15.0</td>\n",
       "      <td>GBP</td>\n",
       "      <td>15.0</td>\n",
       "      <td>NaN</td>\n",
       "      <td>NaN</td>\n",
       "    </tr>\n",
       "    <tr>\n",
       "      <th>3</th>\n",
       "      <td>GBP</td>\n",
       "      <td>150.0</td>\n",
       "      <td>GBP</td>\n",
       "      <td>150.0</td>\n",
       "      <td>NaN</td>\n",
       "      <td>NaN</td>\n",
       "    </tr>\n",
       "    <tr>\n",
       "      <th>4</th>\n",
       "      <td>GBP</td>\n",
       "      <td>55.0</td>\n",
       "      <td>GBP</td>\n",
       "      <td>55.0</td>\n",
       "      <td>NaN</td>\n",
       "      <td>NaN</td>\n",
       "    </tr>\n",
       "  </tbody>\n",
       "</table>\n",
       "</div>"
      ],
      "text/plain": [
       "  offer_price.currency  ...  basket_price.currency\n",
       "0                  GBP  ...                    NaN\n",
       "1                  GBP  ...                    NaN\n",
       "2                  GBP  ...                    NaN\n",
       "3                  GBP  ...                    NaN\n",
       "4                  GBP  ...                    NaN\n",
       "\n",
       "[5 rows x 6 columns]"
      ]
     },
     "execution_count": 9,
     "metadata": {
      "tags": []
     },
     "output_type": "execute_result"
    }
   ],
   "source": [
    "data['price'] = data['price'].apply(lambda x : eval(x))\n",
    "price_data = json_normalize(data['price'])\n",
    "data.drop('price', axis=1, inplace=True)\n",
    "price_data.head()"
   ]
  },
  {
   "cell_type": "code",
   "execution_count": 0,
   "metadata": {
    "colab": {
     "base_uri": "https://localhost:8080/",
     "height": 34
    },
    "colab_type": "code",
    "id": "ciRythXaNXTS",
    "outputId": "f00dda30-935b-4b4a-c216-958f4f6e1597"
   },
   "outputs": [
    {
     "data": {
      "text/plain": [
       "array(['GBP'], dtype=object)"
      ]
     },
     "execution_count": 10,
     "metadata": {
      "tags": []
     },
     "output_type": "execute_result"
    }
   ],
   "source": [
    "price_data['offer_price.currency'].unique()"
   ]
  },
  {
   "cell_type": "markdown",
   "metadata": {
    "colab_type": "text",
    "id": "CdxuILEZOn-x"
   },
   "source": [
    "* Either Currency is GBP or NaN so dropping currency columns from price_data"
   ]
  },
  {
   "cell_type": "code",
   "execution_count": 0,
   "metadata": {
    "colab": {
     "base_uri": "https://localhost:8080/",
     "height": 204
    },
    "colab_type": "code",
    "id": "mxNskAhkNnSP",
    "outputId": "ac437403-7503-4d0c-bf8a-33e7aaa7efd7"
   },
   "outputs": [
    {
     "data": {
      "text/html": [
       "<div>\n",
       "<style scoped>\n",
       "    .dataframe tbody tr th:only-of-type {\n",
       "        vertical-align: middle;\n",
       "    }\n",
       "\n",
       "    .dataframe tbody tr th {\n",
       "        vertical-align: top;\n",
       "    }\n",
       "\n",
       "    .dataframe thead th {\n",
       "        text-align: right;\n",
       "    }\n",
       "</style>\n",
       "<table border=\"1\" class=\"dataframe\">\n",
       "  <thead>\n",
       "    <tr style=\"text-align: right;\">\n",
       "      <th></th>\n",
       "      <th>offer_price.value</th>\n",
       "      <th>regular_price.value</th>\n",
       "      <th>basket_price.value</th>\n",
       "    </tr>\n",
       "  </thead>\n",
       "  <tbody>\n",
       "    <tr>\n",
       "      <th>0</th>\n",
       "      <td>35.0</td>\n",
       "      <td>35.0</td>\n",
       "      <td>NaN</td>\n",
       "    </tr>\n",
       "    <tr>\n",
       "      <th>1</th>\n",
       "      <td>25.0</td>\n",
       "      <td>25.0</td>\n",
       "      <td>NaN</td>\n",
       "    </tr>\n",
       "    <tr>\n",
       "      <th>2</th>\n",
       "      <td>15.0</td>\n",
       "      <td>15.0</td>\n",
       "      <td>NaN</td>\n",
       "    </tr>\n",
       "    <tr>\n",
       "      <th>3</th>\n",
       "      <td>150.0</td>\n",
       "      <td>150.0</td>\n",
       "      <td>NaN</td>\n",
       "    </tr>\n",
       "    <tr>\n",
       "      <th>4</th>\n",
       "      <td>55.0</td>\n",
       "      <td>55.0</td>\n",
       "      <td>NaN</td>\n",
       "    </tr>\n",
       "  </tbody>\n",
       "</table>\n",
       "</div>"
      ],
      "text/plain": [
       "   offer_price.value  regular_price.value  basket_price.value\n",
       "0               35.0                 35.0                 NaN\n",
       "1               25.0                 25.0                 NaN\n",
       "2               15.0                 15.0                 NaN\n",
       "3              150.0                150.0                 NaN\n",
       "4               55.0                 55.0                 NaN"
      ]
     },
     "execution_count": 11,
     "metadata": {
      "tags": []
     },
     "output_type": "execute_result"
    }
   ],
   "source": [
    "drop = ['offer_price.currency', 'regular_price.currency', 'basket_price.currency']\n",
    "for col in drop:\n",
    "  price_data.drop(col, axis=1, inplace=True)\n",
    "price_data.head()"
   ]
  },
  {
   "cell_type": "markdown",
   "metadata": {
    "colab_type": "text",
    "id": "V2FO4VuX9jqu"
   },
   "source": [
    "#### Extracting from column 'brand'\n"
   ]
  },
  {
   "cell_type": "code",
   "execution_count": 0,
   "metadata": {
    "colab": {
     "base_uri": "https://localhost:8080/",
     "height": 204
    },
    "colab_type": "code",
    "id": "PJ3U1eRg0Zz2",
    "outputId": "5918d3e1-0f55-40ec-ee87-c1c4684cf31d"
   },
   "outputs": [
    {
     "data": {
      "text/html": [
       "<div>\n",
       "<style scoped>\n",
       "    .dataframe tbody tr th:only-of-type {\n",
       "        vertical-align: middle;\n",
       "    }\n",
       "\n",
       "    .dataframe tbody tr th {\n",
       "        vertical-align: top;\n",
       "    }\n",
       "\n",
       "    .dataframe thead th {\n",
       "        text-align: right;\n",
       "    }\n",
       "</style>\n",
       "<table border=\"1\" class=\"dataframe\">\n",
       "  <thead>\n",
       "    <tr style=\"text-align: right;\">\n",
       "      <th></th>\n",
       "      <th>name</th>\n",
       "      <th>sub_brand</th>\n",
       "    </tr>\n",
       "  </thead>\n",
       "  <tbody>\n",
       "    <tr>\n",
       "      <th>0</th>\n",
       "      <td>joules</td>\n",
       "      <td></td>\n",
       "    </tr>\n",
       "    <tr>\n",
       "      <th>1</th>\n",
       "      <td>figleaves</td>\n",
       "      <td></td>\n",
       "    </tr>\n",
       "    <tr>\n",
       "      <th>2</th>\n",
       "      <td>nike</td>\n",
       "      <td></td>\n",
       "    </tr>\n",
       "    <tr>\n",
       "      <th>3</th>\n",
       "      <td>next</td>\n",
       "      <td></td>\n",
       "    </tr>\n",
       "    <tr>\n",
       "      <th>4</th>\n",
       "      <td>river island</td>\n",
       "      <td></td>\n",
       "    </tr>\n",
       "  </tbody>\n",
       "</table>\n",
       "</div>"
      ],
      "text/plain": [
       "           name sub_brand\n",
       "0        joules          \n",
       "1     figleaves          \n",
       "2          nike          \n",
       "3          next          \n",
       "4  river island          "
      ]
     },
     "execution_count": 12,
     "metadata": {
      "tags": []
     },
     "output_type": "execute_result"
    }
   ],
   "source": [
    "data['brand'] = data['brand'].apply(lambda x : eval(x))\n",
    "brand_data = json_normalize(data['brand'])\n",
    "data.drop('brand', axis=1, inplace=True)\n",
    "brand_data.head()"
   ]
  },
  {
   "cell_type": "markdown",
   "metadata": {
    "colab_type": "text",
    "id": "i05dpZIC9zlV"
   },
   "source": [
    "* We got some missing values in form of empty strings\n",
    "* Replacing them with 'No brand name' for name and 'No sub-brand name' for sub_brand"
   ]
  },
  {
   "cell_type": "code",
   "execution_count": 0,
   "metadata": {
    "colab": {
     "base_uri": "https://localhost:8080/",
     "height": 204
    },
    "colab_type": "code",
    "id": "Vi1dpny0Qvod",
    "outputId": "c4b5ca78-a92b-4b92-9029-aca65873c547"
   },
   "outputs": [
    {
     "data": {
      "text/html": [
       "<div>\n",
       "<style scoped>\n",
       "    .dataframe tbody tr th:only-of-type {\n",
       "        vertical-align: middle;\n",
       "    }\n",
       "\n",
       "    .dataframe tbody tr th {\n",
       "        vertical-align: top;\n",
       "    }\n",
       "\n",
       "    .dataframe thead th {\n",
       "        text-align: right;\n",
       "    }\n",
       "</style>\n",
       "<table border=\"1\" class=\"dataframe\">\n",
       "  <thead>\n",
       "    <tr style=\"text-align: right;\">\n",
       "      <th></th>\n",
       "      <th>name</th>\n",
       "      <th>sub_brand</th>\n",
       "    </tr>\n",
       "  </thead>\n",
       "  <tbody>\n",
       "    <tr>\n",
       "      <th>0</th>\n",
       "      <td>joules</td>\n",
       "      <td>No sub-brand name</td>\n",
       "    </tr>\n",
       "    <tr>\n",
       "      <th>1</th>\n",
       "      <td>figleaves</td>\n",
       "      <td>No sub-brand name</td>\n",
       "    </tr>\n",
       "    <tr>\n",
       "      <th>2</th>\n",
       "      <td>nike</td>\n",
       "      <td>No sub-brand name</td>\n",
       "    </tr>\n",
       "    <tr>\n",
       "      <th>3</th>\n",
       "      <td>next</td>\n",
       "      <td>No sub-brand name</td>\n",
       "    </tr>\n",
       "    <tr>\n",
       "      <th>4</th>\n",
       "      <td>river island</td>\n",
       "      <td>No sub-brand name</td>\n",
       "    </tr>\n",
       "  </tbody>\n",
       "</table>\n",
       "</div>"
      ],
      "text/plain": [
       "           name          sub_brand\n",
       "0        joules  No sub-brand name\n",
       "1     figleaves  No sub-brand name\n",
       "2          nike  No sub-brand name\n",
       "3          next  No sub-brand name\n",
       "4  river island  No sub-brand name"
      ]
     },
     "execution_count": 13,
     "metadata": {
      "tags": []
     },
     "output_type": "execute_result"
    }
   ],
   "source": [
    "brand_data.loc[brand_data.name.values == '', 'name'] = 'No brand name'\n",
    "brand_data.loc[brand_data.sub_brand.values == '', 'sub_brand'] = 'No sub-brand name'\n",
    "brand_data.head()"
   ]
  },
  {
   "cell_type": "markdown",
   "metadata": {
    "colab_type": "text",
    "id": "28fGjQ3W-PFF"
   },
   "source": [
    "* We already got a column with 'name' for product name\n",
    "* So renaming brand columns with 'brand_name', 'sub_brand_name'"
   ]
  },
  {
   "cell_type": "code",
   "execution_count": 0,
   "metadata": {
    "colab": {},
    "colab_type": "code",
    "id": "hjWum7sJW9v4"
   },
   "outputs": [],
   "source": [
    "brand_data.columns = ['brand_name', 'sub_brand_name']"
   ]
  },
  {
   "cell_type": "markdown",
   "metadata": {
    "colab_type": "text",
    "id": "9JnNa6sW-mOy"
   },
   "source": [
    "#### Extracting from column 'media'\n",
    "* This contains three keys standard, thumbnail and large.\n",
    "* Extracting URL values for those and creating columns in data for it"
   ]
  },
  {
   "cell_type": "code",
   "execution_count": 0,
   "metadata": {
    "colab": {},
    "colab_type": "code",
    "id": "Qk8IjaNK62dN"
   },
   "outputs": [],
   "source": [
    "data['media'] = data['media'].apply(lambda x : eval(x))\n",
    "standard_url = []\n",
    "thumbnail_url = []\n",
    "large_url = []\n",
    "for val in data['media']:\n",
    "  try:\n",
    "      standard_url.append(val['standard'][0]['url'])\n",
    "  except IndexError:\n",
    "      standard_url.append('No media URL')\n",
    "\n",
    "  try:\n",
    "      thumbnail_url.append(val['thumbnail'][0]['url'])\n",
    "  except (IndexError, KeyError):\n",
    "      thumbnail_url.append('No media URL')\n",
    "\n",
    "  try:\n",
    "      large_url.append(val['large'][0]['url'])\n",
    "  except (IndexError, KeyError):\n",
    "      large_url.append('No media URL')\n",
    "\n",
    "data['standard_media_url'] = standard_url\n",
    "data['thumbnail_media_url'] = thumbnail_url\n",
    "data['large_media_url'] = large_url\n",
    "\n",
    "data.drop('media', axis=1, inplace=True)"
   ]
  },
  {
   "cell_type": "markdown",
   "metadata": {
    "colab_type": "text",
    "id": "ALS23JLl_NTD"
   },
   "source": [
    "* Again a check on shape before concatenating them with original data "
   ]
  },
  {
   "cell_type": "code",
   "execution_count": 0,
   "metadata": {
    "colab": {
     "base_uri": "https://localhost:8080/",
     "height": 34
    },
    "colab_type": "code",
    "id": "cv3GU1MxZjoM",
    "outputId": "2d083b5a-7546-4af0-8564-0040392b9b78"
   },
   "outputs": [
    {
     "data": {
      "text/plain": [
       "((318278, 9), (318278, 3), (318278, 2))"
      ]
     },
     "execution_count": 16,
     "metadata": {
      "tags": []
     },
     "output_type": "execute_result"
    }
   ],
   "source": [
    "data.shape, price_data.shape, brand_data.shape"
   ]
  },
  {
   "cell_type": "markdown",
   "metadata": {
    "colab_type": "text",
    "id": "HOO7B3Ia_jn3"
   },
   "source": [
    "#### Concatenating all feature obtained with original data\n",
    "* Also a quick glance on our data with new feature"
   ]
  },
  {
   "cell_type": "code",
   "execution_count": 0,
   "metadata": {
    "colab": {
     "base_uri": "https://localhost:8080/",
     "height": 496
    },
    "colab_type": "code",
    "id": "npoJQmlrUfI5",
    "outputId": "13f18c9c-10ae-4c1f-b9e9-251e53d09494"
   },
   "outputs": [
    {
     "data": {
      "text/html": [
       "<div>\n",
       "<style scoped>\n",
       "    .dataframe tbody tr th:only-of-type {\n",
       "        vertical-align: middle;\n",
       "    }\n",
       "\n",
       "    .dataframe tbody tr th {\n",
       "        vertical-align: top;\n",
       "    }\n",
       "\n",
       "    .dataframe thead th {\n",
       "        text-align: right;\n",
       "    }\n",
       "</style>\n",
       "<table border=\"1\" class=\"dataframe\">\n",
       "  <thead>\n",
       "    <tr style=\"text-align: right;\">\n",
       "      <th></th>\n",
       "      <th>_id</th>\n",
       "      <th>name</th>\n",
       "      <th>website_id</th>\n",
       "      <th>sku</th>\n",
       "      <th>url</th>\n",
       "      <th>description_text</th>\n",
       "      <th>standard_media_url</th>\n",
       "      <th>thumbnail_media_url</th>\n",
       "      <th>large_media_url</th>\n",
       "      <th>offer_price.value</th>\n",
       "      <th>regular_price.value</th>\n",
       "      <th>basket_price.value</th>\n",
       "      <th>brand_name</th>\n",
       "      <th>sub_brand_name</th>\n",
       "    </tr>\n",
       "  </thead>\n",
       "  <tbody>\n",
       "    <tr>\n",
       "      <th>0</th>\n",
       "      <td>5d0b8aca0db7220b86cb4035</td>\n",
       "      <td>Joules Top Dog Underwear Three Pack</td>\n",
       "      <td>5cff5e7fe40f4900046735fa</td>\n",
       "      <td>312838</td>\n",
       "      <td>www.next.co.uk/style/st355408#312838</td>\n",
       "      <td>95% Cotton, 5% Elastane.</td>\n",
       "      <td>https://xcdn.next.co.uk/Common/Items/Default/D...</td>\n",
       "      <td>No media URL</td>\n",
       "      <td>No media URL</td>\n",
       "      <td>35.0</td>\n",
       "      <td>35.0</td>\n",
       "      <td>NaN</td>\n",
       "      <td>joules</td>\n",
       "      <td>No sub-brand name</td>\n",
       "    </tr>\n",
       "    <tr>\n",
       "      <th>1</th>\n",
       "      <td>5d0b8aca0db7220b86cb4036</td>\n",
       "      <td>Figleaves Cheetah Satin Pyjama Set</td>\n",
       "      <td>5cff5e7fe40f4900046735fa</td>\n",
       "      <td>319571</td>\n",
       "      <td>https://www.next.co.uk/style/st324987#319571</td>\n",
       "      <td>100% Polyester.</td>\n",
       "      <td>https://xcdn.next.co.uk/Common/Items/Default/D...</td>\n",
       "      <td>No media URL</td>\n",
       "      <td>No media URL</td>\n",
       "      <td>25.0</td>\n",
       "      <td>25.0</td>\n",
       "      <td>NaN</td>\n",
       "      <td>figleaves</td>\n",
       "      <td>No sub-brand name</td>\n",
       "    </tr>\n",
       "    <tr>\n",
       "      <th>2</th>\n",
       "      <td>5d0b8aca0db7220b86cb4037</td>\n",
       "      <td>Nike Solid 4\" Swim Short</td>\n",
       "      <td>5cff5e7fe40f4900046735fa</td>\n",
       "      <td>335026</td>\n",
       "      <td>https://www.next.co.uk/style/st400645#335026</td>\n",
       "      <td>Nike Swim Boys' Solid Lap 4 Volley Short is a ...</td>\n",
       "      <td>https://xcdn.next.co.uk/Common/Items/Default/D...</td>\n",
       "      <td>No media URL</td>\n",
       "      <td>No media URL</td>\n",
       "      <td>15.0</td>\n",
       "      <td>15.0</td>\n",
       "      <td>NaN</td>\n",
       "      <td>nike</td>\n",
       "      <td>No sub-brand name</td>\n",
       "    </tr>\n",
       "    <tr>\n",
       "      <th>3</th>\n",
       "      <td>5d0b8aca0db7220b86cb4038</td>\n",
       "      <td>Collection Luxe Orchid</td>\n",
       "      <td>5cff5e7fe40f4900046735fa</td>\n",
       "      <td>552266</td>\n",
       "      <td>https://www.next.co.uk/style/st262195#552266</td>\n",
       "      <td>Height 85cm</td>\n",
       "      <td>https://xcdn.next.co.uk/Common/Items/Default/D...</td>\n",
       "      <td>No media URL</td>\n",
       "      <td>No media URL</td>\n",
       "      <td>150.0</td>\n",
       "      <td>150.0</td>\n",
       "      <td>NaN</td>\n",
       "      <td>next</td>\n",
       "      <td>No sub-brand name</td>\n",
       "    </tr>\n",
       "    <tr>\n",
       "      <th>4</th>\n",
       "      <td>5d0b8aca0db7220b86cb4039</td>\n",
       "      <td>River Island White Sleeveless Blazer</td>\n",
       "      <td>5cff5e7fe40f4900046735fa</td>\n",
       "      <td>680971</td>\n",
       "      <td>https://www.next.co.uk/style/st440132#680971</td>\n",
       "      <td>100% Polyester.</td>\n",
       "      <td>https://xcdn.next.co.uk/Common/Items/Default/D...</td>\n",
       "      <td>No media URL</td>\n",
       "      <td>No media URL</td>\n",
       "      <td>55.0</td>\n",
       "      <td>55.0</td>\n",
       "      <td>NaN</td>\n",
       "      <td>river island</td>\n",
       "      <td>No sub-brand name</td>\n",
       "    </tr>\n",
       "  </tbody>\n",
       "</table>\n",
       "</div>"
      ],
      "text/plain": [
       "                        _id  ...     sub_brand_name\n",
       "0  5d0b8aca0db7220b86cb4035  ...  No sub-brand name\n",
       "1  5d0b8aca0db7220b86cb4036  ...  No sub-brand name\n",
       "2  5d0b8aca0db7220b86cb4037  ...  No sub-brand name\n",
       "3  5d0b8aca0db7220b86cb4038  ...  No sub-brand name\n",
       "4  5d0b8aca0db7220b86cb4039  ...  No sub-brand name\n",
       "\n",
       "[5 rows x 14 columns]"
      ]
     },
     "execution_count": 17,
     "metadata": {
      "tags": []
     },
     "output_type": "execute_result"
    }
   ],
   "source": [
    "data = pd.concat([data, price_data, brand_data], axis=1)\n",
    "data.head()"
   ]
  },
  {
   "cell_type": "markdown",
   "metadata": {
    "colab_type": "text",
    "id": "bWeXd14xEhGb"
   },
   "source": [
    "### Data description\n",
    "* '_id' : Product IDs\n",
    "* 'name' : Product Names\n",
    "* 'website_id' : IDs for company websites\n",
    "* 'sku' : SKU codes for particular products\n",
    "* 'url' : URLs for product listed on websites\n",
    "* 'description_text' : Product descriptions\n",
    "* 'media': URLs for Standard , Large and Thumbnails media\n",
    "* 'price': Product price in GBP (Offer and Regular prices)\n",
    "* 'brand': Brand name of product"
   ]
  },
  {
   "cell_type": "markdown",
   "metadata": {
    "colab_type": "text",
    "id": "-f-bXSWEDHjt"
   },
   "source": [
    "### Data pre-processing on newly obtained data"
   ]
  },
  {
   "cell_type": "markdown",
   "metadata": {
    "colab_type": "text",
    "id": "2x3NThDx_5WQ"
   },
   "source": [
    "#### Again null values check with new columns, checking with percentage"
   ]
  },
  {
   "cell_type": "code",
   "execution_count": 0,
   "metadata": {
    "colab": {
     "base_uri": "https://localhost:8080/",
     "height": 272
    },
    "colab_type": "code",
    "id": "sdhxG7ihgRdt",
    "outputId": "be7aa7c0-099f-404f-8757-148e70163253"
   },
   "outputs": [
    {
     "data": {
      "text/plain": [
       "_id                     0.000000\n",
       "name                    0.000000\n",
       "website_id              0.000000\n",
       "sku                     0.000000\n",
       "url                     0.000000\n",
       "description_text        0.000000\n",
       "standard_media_url      0.000000\n",
       "thumbnail_media_url     0.000000\n",
       "large_media_url         0.000000\n",
       "offer_price.value       0.104311\n",
       "regular_price.value     0.104311\n",
       "basket_price.value     65.510340\n",
       "brand_name              0.000000\n",
       "sub_brand_name          0.000000\n",
       "dtype: float64"
      ]
     },
     "execution_count": 18,
     "metadata": {
      "tags": []
     },
     "output_type": "execute_result"
    }
   ],
   "source": [
    "data.isna().sum()/data.shape[0] * 100"
   ]
  },
  {
   "cell_type": "markdown",
   "metadata": {
    "colab_type": "text",
    "id": "C4648X8CAJ_6"
   },
   "source": [
    "* 65.51% of 'basket_price.value' are null values, hence we can drop it."
   ]
  },
  {
   "cell_type": "code",
   "execution_count": 0,
   "metadata": {
    "colab": {},
    "colab_type": "code",
    "id": "Lzgx6YeFqb8c"
   },
   "outputs": [],
   "source": [
    "data.drop('basket_price.value', axis=1, inplace=True)"
   ]
  },
  {
   "cell_type": "markdown",
   "metadata": {
    "colab_type": "text",
    "id": "XkVbv37HCUFD"
   },
   "source": [
    "* Also 'offer_price.value' and 'regular_price.value' are just 0.10% null. So, we can drop that paticular rows."
   ]
  },
  {
   "cell_type": "code",
   "execution_count": 0,
   "metadata": {
    "colab": {
     "base_uri": "https://localhost:8080/",
     "height": 255
    },
    "colab_type": "code",
    "id": "ESUL50tVra51",
    "outputId": "9e5b64a4-e098-4a62-878c-dee2f8f349e1"
   },
   "outputs": [
    {
     "data": {
      "text/plain": [
       "_id                    0\n",
       "name                   0\n",
       "website_id             0\n",
       "sku                    0\n",
       "url                    0\n",
       "description_text       0\n",
       "standard_media_url     0\n",
       "thumbnail_media_url    0\n",
       "large_media_url        0\n",
       "offer_price.value      0\n",
       "regular_price.value    0\n",
       "brand_name             0\n",
       "sub_brand_name         0\n",
       "dtype: int64"
      ]
     },
     "execution_count": 20,
     "metadata": {
      "tags": []
     },
     "output_type": "execute_result"
    }
   ],
   "source": [
    "data.drop(data[data['regular_price.value'].isna()].index, axis=0, inplace=True)\n",
    "data = data.reset_index()\n",
    "data.drop('index', axis=1, inplace=True)\n",
    "data.isna().sum()"
   ]
  },
  {
   "cell_type": "markdown",
   "metadata": {
    "colab_type": "text",
    "id": "KV7CGUFHDuPo"
   },
   "source": [
    "#### Quick check on stats"
   ]
  },
  {
   "cell_type": "code",
   "execution_count": 0,
   "metadata": {
    "colab": {
     "base_uri": "https://localhost:8080/",
     "height": 444
    },
    "colab_type": "code",
    "id": "mIhp9Basr-44",
    "outputId": "95d2642c-b5b4-4ff4-cd41-67fab08d469f"
   },
   "outputs": [
    {
     "data": {
      "text/html": [
       "<div>\n",
       "<style scoped>\n",
       "    .dataframe tbody tr th:only-of-type {\n",
       "        vertical-align: middle;\n",
       "    }\n",
       "\n",
       "    .dataframe tbody tr th {\n",
       "        vertical-align: top;\n",
       "    }\n",
       "\n",
       "    .dataframe thead th {\n",
       "        text-align: right;\n",
       "    }\n",
       "</style>\n",
       "<table border=\"1\" class=\"dataframe\">\n",
       "  <thead>\n",
       "    <tr style=\"text-align: right;\">\n",
       "      <th></th>\n",
       "      <th>_id</th>\n",
       "      <th>name</th>\n",
       "      <th>website_id</th>\n",
       "      <th>sku</th>\n",
       "      <th>url</th>\n",
       "      <th>description_text</th>\n",
       "      <th>standard_media_url</th>\n",
       "      <th>thumbnail_media_url</th>\n",
       "      <th>large_media_url</th>\n",
       "      <th>offer_price.value</th>\n",
       "      <th>regular_price.value</th>\n",
       "      <th>brand_name</th>\n",
       "      <th>sub_brand_name</th>\n",
       "    </tr>\n",
       "  </thead>\n",
       "  <tbody>\n",
       "    <tr>\n",
       "      <th>count</th>\n",
       "      <td>317946</td>\n",
       "      <td>317946</td>\n",
       "      <td>317946</td>\n",
       "      <td>317946</td>\n",
       "      <td>317946</td>\n",
       "      <td>317946</td>\n",
       "      <td>317946</td>\n",
       "      <td>317946</td>\n",
       "      <td>317946</td>\n",
       "      <td>3.179460e+05</td>\n",
       "      <td>3.179460e+05</td>\n",
       "      <td>317946</td>\n",
       "      <td>317946</td>\n",
       "    </tr>\n",
       "    <tr>\n",
       "      <th>unique</th>\n",
       "      <td>317946</td>\n",
       "      <td>257399</td>\n",
       "      <td>4</td>\n",
       "      <td>299797</td>\n",
       "      <td>317946</td>\n",
       "      <td>275543</td>\n",
       "      <td>311110</td>\n",
       "      <td>238074</td>\n",
       "      <td>108855</td>\n",
       "      <td>NaN</td>\n",
       "      <td>NaN</td>\n",
       "      <td>4776</td>\n",
       "      <td>1</td>\n",
       "    </tr>\n",
       "    <tr>\n",
       "      <th>top</th>\n",
       "      <td>5d49a619a3ecbbd90d63ff98</td>\n",
       "      <td>logo print T-shirt</td>\n",
       "      <td>5d0cc7b68a66a100014acdb0</td>\n",
       "      <td>No SKU Code</td>\n",
       "      <td>https://www.farfetch.com/uk/shopping/men/eleve...</td>\n",
       "      <td>100% Cotton.</td>\n",
       "      <td>No media URL</td>\n",
       "      <td>No media URL</td>\n",
       "      <td>No media URL</td>\n",
       "      <td>NaN</td>\n",
       "      <td>NaN</td>\n",
       "      <td>next</td>\n",
       "      <td>No sub-brand name</td>\n",
       "    </tr>\n",
       "    <tr>\n",
       "      <th>freq</th>\n",
       "      <td>1</td>\n",
       "      <td>450</td>\n",
       "      <td>109773</td>\n",
       "      <td>412</td>\n",
       "      <td>1</td>\n",
       "      <td>2213</td>\n",
       "      <td>58</td>\n",
       "      <td>78689</td>\n",
       "      <td>208173</td>\n",
       "      <td>NaN</td>\n",
       "      <td>NaN</td>\n",
       "      <td>25154</td>\n",
       "      <td>317946</td>\n",
       "    </tr>\n",
       "    <tr>\n",
       "      <th>mean</th>\n",
       "      <td>NaN</td>\n",
       "      <td>NaN</td>\n",
       "      <td>NaN</td>\n",
       "      <td>NaN</td>\n",
       "      <td>NaN</td>\n",
       "      <td>NaN</td>\n",
       "      <td>NaN</td>\n",
       "      <td>NaN</td>\n",
       "      <td>NaN</td>\n",
       "      <td>2.239519e+02</td>\n",
       "      <td>2.643545e+02</td>\n",
       "      <td>NaN</td>\n",
       "      <td>NaN</td>\n",
       "    </tr>\n",
       "    <tr>\n",
       "      <th>std</th>\n",
       "      <td>NaN</td>\n",
       "      <td>NaN</td>\n",
       "      <td>NaN</td>\n",
       "      <td>NaN</td>\n",
       "      <td>NaN</td>\n",
       "      <td>NaN</td>\n",
       "      <td>NaN</td>\n",
       "      <td>NaN</td>\n",
       "      <td>NaN</td>\n",
       "      <td>2.580080e+03</td>\n",
       "      <td>3.272166e+03</td>\n",
       "      <td>NaN</td>\n",
       "      <td>NaN</td>\n",
       "    </tr>\n",
       "    <tr>\n",
       "      <th>min</th>\n",
       "      <td>NaN</td>\n",
       "      <td>NaN</td>\n",
       "      <td>NaN</td>\n",
       "      <td>NaN</td>\n",
       "      <td>NaN</td>\n",
       "      <td>NaN</td>\n",
       "      <td>NaN</td>\n",
       "      <td>NaN</td>\n",
       "      <td>NaN</td>\n",
       "      <td>0.000000e+00</td>\n",
       "      <td>0.000000e+00</td>\n",
       "      <td>NaN</td>\n",
       "      <td>NaN</td>\n",
       "    </tr>\n",
       "    <tr>\n",
       "      <th>25%</th>\n",
       "      <td>NaN</td>\n",
       "      <td>NaN</td>\n",
       "      <td>NaN</td>\n",
       "      <td>NaN</td>\n",
       "      <td>NaN</td>\n",
       "      <td>NaN</td>\n",
       "      <td>NaN</td>\n",
       "      <td>NaN</td>\n",
       "      <td>NaN</td>\n",
       "      <td>1.500000e+01</td>\n",
       "      <td>2.000000e+01</td>\n",
       "      <td>NaN</td>\n",
       "      <td>NaN</td>\n",
       "    </tr>\n",
       "    <tr>\n",
       "      <th>50%</th>\n",
       "      <td>NaN</td>\n",
       "      <td>NaN</td>\n",
       "      <td>NaN</td>\n",
       "      <td>NaN</td>\n",
       "      <td>NaN</td>\n",
       "      <td>NaN</td>\n",
       "      <td>NaN</td>\n",
       "      <td>NaN</td>\n",
       "      <td>NaN</td>\n",
       "      <td>3.600000e+01</td>\n",
       "      <td>4.500000e+01</td>\n",
       "      <td>NaN</td>\n",
       "      <td>NaN</td>\n",
       "    </tr>\n",
       "    <tr>\n",
       "      <th>75%</th>\n",
       "      <td>NaN</td>\n",
       "      <td>NaN</td>\n",
       "      <td>NaN</td>\n",
       "      <td>NaN</td>\n",
       "      <td>NaN</td>\n",
       "      <td>NaN</td>\n",
       "      <td>NaN</td>\n",
       "      <td>NaN</td>\n",
       "      <td>NaN</td>\n",
       "      <td>1.930000e+02</td>\n",
       "      <td>2.400000e+02</td>\n",
       "      <td>NaN</td>\n",
       "      <td>NaN</td>\n",
       "    </tr>\n",
       "    <tr>\n",
       "      <th>max</th>\n",
       "      <td>NaN</td>\n",
       "      <td>NaN</td>\n",
       "      <td>NaN</td>\n",
       "      <td>NaN</td>\n",
       "      <td>NaN</td>\n",
       "      <td>NaN</td>\n",
       "      <td>NaN</td>\n",
       "      <td>NaN</td>\n",
       "      <td>NaN</td>\n",
       "      <td>1.026484e+06</td>\n",
       "      <td>1.466406e+06</td>\n",
       "      <td>NaN</td>\n",
       "      <td>NaN</td>\n",
       "    </tr>\n",
       "  </tbody>\n",
       "</table>\n",
       "</div>"
      ],
      "text/plain": [
       "                             _id  ...     sub_brand_name\n",
       "count                     317946  ...             317946\n",
       "unique                    317946  ...                  1\n",
       "top     5d49a619a3ecbbd90d63ff98  ...  No sub-brand name\n",
       "freq                           1  ...             317946\n",
       "mean                         NaN  ...                NaN\n",
       "std                          NaN  ...                NaN\n",
       "min                          NaN  ...                NaN\n",
       "25%                          NaN  ...                NaN\n",
       "50%                          NaN  ...                NaN\n",
       "75%                          NaN  ...                NaN\n",
       "max                          NaN  ...                NaN\n",
       "\n",
       "[11 rows x 13 columns]"
      ]
     },
     "execution_count": 21,
     "metadata": {
      "tags": []
     },
     "output_type": "execute_result"
    }
   ],
   "source": [
    "data.describe(include='all')"
   ]
  },
  {
   "cell_type": "markdown",
   "metadata": {
    "colab_type": "text",
    "id": "uf729VyfD5PP"
   },
   "source": [
    "* 'sub_brand_name' has 1 unique value, so dropping that column"
   ]
  },
  {
   "cell_type": "code",
   "execution_count": 0,
   "metadata": {
    "colab": {},
    "colab_type": "code",
    "id": "2fzDiB3tscbZ"
   },
   "outputs": [],
   "source": [
    "data.drop('sub_brand_name', axis=1, inplace=True)"
   ]
  },
  {
   "cell_type": "markdown",
   "metadata": {
    "colab_type": "text",
    "id": "4F0DjVPW3Rod"
   },
   "source": [
    "* 'website_id' has 4 uniques IDs, so we can extract website name from associated URLs for it and create a column for analysis."
   ]
  },
  {
   "cell_type": "code",
   "execution_count": 0,
   "metadata": {
    "colab": {},
    "colab_type": "code",
    "id": "CuQ1ZHBi8g8N"
   },
   "outputs": [],
   "source": [
    "data['website_name'] = data['url'].apply(lambda link : urlparse(link).netloc)"
   ]
  },
  {
   "cell_type": "markdown",
   "metadata": {
    "colab_type": "text",
    "id": "0nrBRewb3TNT"
   },
   "source": [
    "#### Checking for rows with offer price greater than regular price"
   ]
  },
  {
   "cell_type": "code",
   "execution_count": 0,
   "metadata": {
    "colab": {
     "base_uri": "https://localhost:8080/",
     "height": 34
    },
    "colab_type": "code",
    "id": "FarfX_JOssiX",
    "outputId": "d9c02786-dd1e-4881-937e-070927fa17c0"
   },
   "outputs": [
    {
     "name": "stdout",
     "output_type": "stream",
     "text": [
      "Total records with offer price greater than regular price:  14\n"
     ]
    }
   ],
   "source": [
    "print('Total records with offer price greater than regular price: ',data.loc[data['offer_price.value'] > data['regular_price.value']].shape[0])"
   ]
  },
  {
   "cell_type": "code",
   "execution_count": 0,
   "metadata": {
    "colab": {
     "base_uri": "https://localhost:8080/",
     "height": 564
    },
    "colab_type": "code",
    "id": "J6sk9clouPXy",
    "outputId": "924e39f9-47be-472b-f5fc-a223d7310891"
   },
   "outputs": [
    {
     "data": {
      "text/html": [
       "<div>\n",
       "<style scoped>\n",
       "    .dataframe tbody tr th:only-of-type {\n",
       "        vertical-align: middle;\n",
       "    }\n",
       "\n",
       "    .dataframe tbody tr th {\n",
       "        vertical-align: top;\n",
       "    }\n",
       "\n",
       "    .dataframe thead th {\n",
       "        text-align: right;\n",
       "    }\n",
       "</style>\n",
       "<table border=\"1\" class=\"dataframe\">\n",
       "  <thead>\n",
       "    <tr style=\"text-align: right;\">\n",
       "      <th></th>\n",
       "      <th>_id</th>\n",
       "      <th>name</th>\n",
       "      <th>website_id</th>\n",
       "      <th>sku</th>\n",
       "      <th>url</th>\n",
       "      <th>description_text</th>\n",
       "      <th>standard_media_url</th>\n",
       "      <th>thumbnail_media_url</th>\n",
       "      <th>large_media_url</th>\n",
       "      <th>offer_price.value</th>\n",
       "      <th>regular_price.value</th>\n",
       "      <th>brand_name</th>\n",
       "      <th>website_name</th>\n",
       "    </tr>\n",
       "  </thead>\n",
       "  <tbody>\n",
       "    <tr>\n",
       "      <th>78687</th>\n",
       "      <td>5d09dc3365a89b368ffe6920</td>\n",
       "      <td>Black Lace Bardot Bodysuit</td>\n",
       "      <td>5cff5e30e40f4900046735f8</td>\n",
       "      <td>cmd4463</td>\n",
       "      <td>www.prettylittlething.com/black-lace-bardot-bo...</td>\n",
       "      <td>This bodysuit is perfect for any weekend occas...</td>\n",
       "      <td>https://cdn-img.prettylittlething.com/e/3/c/b/...</td>\n",
       "      <td>https://cdn-img.prettylittlething.com/e/3/c/b/...</td>\n",
       "      <td>No media URL</td>\n",
       "      <td>18.0</td>\n",
       "      <td>15.0</td>\n",
       "      <td>GLOBALLE</td>\n",
       "      <td></td>\n",
       "    </tr>\n",
       "    <tr>\n",
       "      <th>88687</th>\n",
       "      <td>5d09e34a65a89b368ffe9031</td>\n",
       "      <td>Black Lace Gold Button Blazer Dress</td>\n",
       "      <td>5cff5e30e40f4900046735f8</td>\n",
       "      <td>clw9088</td>\n",
       "      <td>www.prettylittlething.com/black-lace-gold-butt...</td>\n",
       "      <td>Switch your simple LBD for the lace blazer dre...</td>\n",
       "      <td>https://cdn-img.prettylittlething.com/c/a/7/9/...</td>\n",
       "      <td>https://cdn-img.prettylittlething.com/c/a/7/9/...</td>\n",
       "      <td>No media URL</td>\n",
       "      <td>40.0</td>\n",
       "      <td>16.0</td>\n",
       "      <td>UNIQUE21</td>\n",
       "      <td></td>\n",
       "    </tr>\n",
       "    <tr>\n",
       "      <th>98685</th>\n",
       "      <td>5d09e86665a89b368ffeb741</td>\n",
       "      <td>Petite Brown Snake Print Floaty Shorts</td>\n",
       "      <td>5cff5e30e40f4900046735f8</td>\n",
       "      <td>clv7163</td>\n",
       "      <td>www.prettylittlething.com/petite-brown-snake-p...</td>\n",
       "      <td>We are loving print this season girl, and this...</td>\n",
       "      <td>https://cdn-img.prettylittlething.com/0/4/3/9/...</td>\n",
       "      <td>https://cdn-img.prettylittlething.com/0/4/3/9/...</td>\n",
       "      <td>No media URL</td>\n",
       "      <td>18.0</td>\n",
       "      <td>6.0</td>\n",
       "      <td>4FASHION</td>\n",
       "      <td></td>\n",
       "    </tr>\n",
       "    <tr>\n",
       "      <th>108682</th>\n",
       "      <td>5d35a2cdd41118b4e396d9ff</td>\n",
       "      <td>Red Strappy Thick Lace Frill Hem Midi Dress</td>\n",
       "      <td>5cff5e30e40f4900046735f8</td>\n",
       "      <td>clz7400</td>\n",
       "      <td>www.prettylittlething.com/red-strappy-thick-la...</td>\n",
       "      <td>Get that jaw-dropping look with this killer mi...</td>\n",
       "      <td>https://cdn-img.prettylittlething.com/7/8/7/7/...</td>\n",
       "      <td>https://cdn-img.prettylittlething.com/7/8/7/7/...</td>\n",
       "      <td>No media URL</td>\n",
       "      <td>45.0</td>\n",
       "      <td>15.0</td>\n",
       "      <td>4fashion</td>\n",
       "      <td></td>\n",
       "    </tr>\n",
       "    <tr>\n",
       "      <th>168048</th>\n",
       "      <td>5d49ce8aa3ecbbd90d649907</td>\n",
       "      <td>Dinky crossbody bag</td>\n",
       "      <td>5d0cc7b68a66a100014acdb0</td>\n",
       "      <td>11538699</td>\n",
       "      <td>www.farfetch.com/uk/shopping/women/coach-dinky...</td>\n",
       "      <td>Black leather Dinky crossbody bag from Coach.</td>\n",
       "      <td>https://cdn-images.farfetch-contents.com/11/53...</td>\n",
       "      <td>https://cdn-images.farfetch-contents.com/11/53...</td>\n",
       "      <td>https://cdn-images.farfetch-contents.com/11/53...</td>\n",
       "      <td>458.0</td>\n",
       "      <td>413.0</td>\n",
       "      <td>coach</td>\n",
       "      <td></td>\n",
       "    </tr>\n",
       "  </tbody>\n",
       "</table>\n",
       "</div>"
      ],
      "text/plain": [
       "                             _id  ... website_name\n",
       "78687   5d09dc3365a89b368ffe6920  ...             \n",
       "88687   5d09e34a65a89b368ffe9031  ...             \n",
       "98685   5d09e86665a89b368ffeb741  ...             \n",
       "108682  5d35a2cdd41118b4e396d9ff  ...             \n",
       "168048  5d49ce8aa3ecbbd90d649907  ...             \n",
       "\n",
       "[5 rows x 13 columns]"
      ]
     },
     "execution_count": 25,
     "metadata": {
      "tags": []
     },
     "output_type": "execute_result"
    }
   ],
   "source": [
    "data.loc[data['offer_price.value'] > data['regular_price.value']].head()"
   ]
  },
  {
   "cell_type": "markdown",
   "metadata": {
    "colab_type": "text",
    "id": "BxIR1co84SxW"
   },
   "source": [
    "* Removing records with offer price value greater than regular price value"
   ]
  },
  {
   "cell_type": "code",
   "execution_count": 0,
   "metadata": {
    "colab": {
     "base_uri": "https://localhost:8080/",
     "height": 51
    },
    "colab_type": "code",
    "id": "TS4KdeusuU2v",
    "outputId": "984e048f-a5f9-4d9c-e078-0c22de0c0bd4"
   },
   "outputs": [
    {
     "name": "stdout",
     "output_type": "stream",
     "text": [
      "Total records with offer price greater than regular price:  0\n"
     ]
    },
    {
     "data": {
      "text/plain": [
       "(317932, 13)"
      ]
     },
     "execution_count": 26,
     "metadata": {
      "tags": []
     },
     "output_type": "execute_result"
    }
   ],
   "source": [
    "data.drop(data.loc[data['offer_price.value'] > data['regular_price.value']].index, axis=0, inplace=True)\n",
    "data = data.reset_index()\n",
    "data.drop('index', axis=1, inplace=True)\n",
    "print('Total records with offer price greater than regular price: ',data.loc[data['offer_price.value'] > data['regular_price.value']].shape[0])\n",
    "data.shape"
   ]
  },
  {
   "cell_type": "markdown",
   "metadata": {
    "colab_type": "text",
    "id": "r8MiR7nd4fPY"
   },
   "source": [
    "#### Functions for BoxPlot"
   ]
  },
  {
   "cell_type": "code",
   "execution_count": 0,
   "metadata": {
    "colab": {},
    "colab_type": "code",
    "id": "Peq3T3AOxtri"
   },
   "outputs": [],
   "source": [
    "def boxPlot_single(numColumn):\n",
    "  plt.rcParams['figure.figsize'] = (10.0, 5.0)\n",
    "  plt.title('Box plot for '+numColumn)\n",
    "  sns.set(style=\"whitegrid\")\n",
    "  ax = sns.boxplot(data[numColumn])\n",
    "\n",
    "def boxPlot_multi(numColumn, catColumn):\n",
    "  plt.rcParams['figure.figsize'] = (20.0, 10.0)\n",
    "  plt.title('Box plot for ' +numColumn+ ' per '+catColumn)\n",
    "  sns.set(style=\"whitegrid\")\n",
    "  ax = sns.boxplot(x=catColumn, y=numColumn, data=data)\n",
    "\n",
    "  for i,artist in enumerate(ax.artists):\n",
    "      col = artist.get_facecolor()\n",
    "      artist.set_edgecolor(col)\n",
    "      artist.set_facecolor('None')\n",
    "\n",
    "      for j in range(i*6,i*6+6):\n",
    "          line = ax.lines[j]\n",
    "          line.set_color(col)\n",
    "          line.set_mfc(col)\n",
    "          line.set_mec(col)"
   ]
  },
  {
   "cell_type": "markdown",
   "metadata": {
    "colab_type": "text",
    "id": "LKW_KqGr5JXP"
   },
   "source": [
    "#### Checking and for outliers in price"
   ]
  },
  {
   "cell_type": "code",
   "execution_count": 0,
   "metadata": {
    "colab": {
     "base_uri": "https://localhost:8080/",
     "height": 351
    },
    "colab_type": "code",
    "id": "INk5Cw0F-WS5",
    "outputId": "2fd310fb-3ef3-40c7-fba0-3907e5132748"
   },
   "outputs": [
    {
     "data": {
      "image/png": "[encoded data removed]",
      "text/plain": [
       "<Figure size 720x360 with 1 Axes>"
      ]
     },
     "metadata": {
      "tags": []
     },
     "output_type": "display_data"
    }
   ],
   "source": [
    "boxPlot_single('offer_price.value')"
   ]
  },
  {
   "cell_type": "code",
   "execution_count": 0,
   "metadata": {
    "colab": {},
    "colab_type": "code",
    "id": "mppyKPTUAJDS"
   },
   "outputs": [],
   "source": [
    "def removeOutliers(price, data):\n",
    "  print('Total records with offer price greater than ',price,': ',data.loc[data['offer_price.value'] > price].shape[0])\n",
    "  print('Removing records...')\n",
    "  data.drop(data.loc[data['offer_price.value'] > price].index, axis=0, inplace=True)\n",
    "  data = data.reset_index()\n",
    "  data.drop('index', axis=1, inplace=True)\n",
    "  print('Total records with offer price greater than ',price,': ',data.loc[data['offer_price.value'] > price].shape[0])"
   ]
  },
  {
   "cell_type": "code",
   "execution_count": 0,
   "metadata": {
    "colab": {
     "base_uri": "https://localhost:8080/",
     "height": 68
    },
    "colab_type": "code",
    "id": "RADS9JkRAyR9",
    "outputId": "40fa2026-25e0-4041-d760-3264900e61b6"
   },
   "outputs": [
    {
     "name": "stdout",
     "output_type": "stream",
     "text": [
      "Total records with offer price greater than  5000 :  706\n",
      "Removing records...\n",
      "Total records with offer price greater than  5000 :  0\n"
     ]
    }
   ],
   "source": [
    "removeOutliers(5000, data)"
   ]
  },
  {
   "cell_type": "code",
   "execution_count": 0,
   "metadata": {
    "colab": {
     "base_uri": "https://localhost:8080/",
     "height": 355
    },
    "colab_type": "code",
    "id": "cDQJmpmOBEH5",
    "outputId": "2102ea4c-ac23-41dd-8d8e-56a5372d7859"
   },
   "outputs": [
    {
     "data": {
      "image/png": "[encoded data removed]",
      "text/plain": [
       "<Figure size 720x360 with 1 Axes>"
      ]
     },
     "metadata": {
      "tags": []
     },
     "output_type": "display_data"
    }
   ],
   "source": [
    "boxPlot_single('offer_price.value')"
   ]
  },
  {
   "cell_type": "code",
   "execution_count": 0,
   "metadata": {
    "colab": {
     "base_uri": "https://localhost:8080/",
     "height": 68
    },
    "colab_type": "code",
    "id": "a5EAYj5wH2FE",
    "outputId": "e98a5965-703d-4063-a5b5-e484399eee08"
   },
   "outputs": [
    {
     "name": "stdout",
     "output_type": "stream",
     "text": [
      "Total records with offer price greater than  200 :  76756\n",
      "Removing records...\n",
      "Total records with offer price greater than  200 :  0\n"
     ]
    }
   ],
   "source": [
    "removeOutliers(200, data)"
   ]
  },
  {
   "cell_type": "code",
   "execution_count": 0,
   "metadata": {
    "colab": {
     "base_uri": "https://localhost:8080/",
     "height": 355
    },
    "colab_type": "code",
    "id": "HWLqGKA5H_lA",
    "outputId": "1417cee7-b3bd-4e33-d493-a69ea23a7bc5"
   },
   "outputs": [
    {
     "data": {
      "image/png": "[encoded data removed]",
      "text/plain": [
       "<Figure size 720x360 with 1 Axes>"
      ]
     },
     "metadata": {
      "tags": []
     },
     "output_type": "display_data"
    }
   ],
   "source": [
    "boxPlot_single('offer_price.value')"
   ]
  },
  {
   "cell_type": "code",
   "execution_count": 0,
   "metadata": {
    "colab": {
     "base_uri": "https://localhost:8080/",
     "height": 51
    },
    "colab_type": "code",
    "id": "jDUifzjtPB9o",
    "outputId": "851de7cb-1159-4824-fce1-3e86b0249867"
   },
   "outputs": [
    {
     "name": "stdout",
     "output_type": "stream",
     "text": [
      "Records left after removing outliers (offer price greater than 200 GBP):  240470\n",
      "Records dropped in precentage : 24.36\n"
     ]
    }
   ],
   "source": [
    "print('Records left after removing outliers (offer price greater than 200 GBP): ', data.shape[0])\n",
    "print('Records dropped in precentage :', round((1 - data.shape[0]/317932) * 100, 2))"
   ]
  },
  {
   "cell_type": "markdown",
   "metadata": {
    "colab_type": "text",
    "id": "z2lynn9Dhl80"
   },
   "source": [
    "* After removing most of the outliers, Still distribution is left skewed.\n",
    "* Data is dropped by 24.36%"
   ]
  },
  {
   "cell_type": "code",
   "execution_count": 0,
   "metadata": {
    "colab": {
     "base_uri": "https://localhost:8080/",
     "height": 372
    },
    "colab_type": "code",
    "id": "rzCQ9TGMPKBg",
    "outputId": "d60ad807-f079-4e09-e8cf-41316f8eb310"
   },
   "outputs": [
    {
     "data": {
      "text/plain": [
       "<matplotlib.axes._subplots.AxesSubplot at 0x7fe919bd56a0>"
      ]
     },
     "execution_count": 35,
     "metadata": {
      "tags": []
     },
     "output_type": "execute_result"
    },
    {
     "data": {
      "image/png": "[encoded data removed]",
      "text/plain": [
       "<Figure size 720x360 with 1 Axes>"
      ]
     },
     "metadata": {
      "tags": []
     },
     "output_type": "display_data"
    }
   ],
   "source": [
    "plt.title('Offer Price Distribution')\n",
    "sns.distplot(data['offer_price.value'])"
   ]
  },
  {
   "cell_type": "markdown",
   "metadata": {
    "colab_type": "text",
    "id": "NF9DTwV1h-cK"
   },
   "source": [
    "#### BoxPlot for offer price by each website"
   ]
  },
  {
   "cell_type": "code",
   "execution_count": 0,
   "metadata": {
    "colab": {
     "base_uri": "https://localhost:8080/",
     "height": 627
    },
    "colab_type": "code",
    "id": "FONLdAF7_9fy",
    "outputId": "c3a590ab-2cd1-4c8b-9b12-a08f31156497"
   },
   "outputs": [
    {
     "data": {
      "image/png": "[encoded data removed]",
      "text/plain": [
       "<Figure size 1440x720 with 1 Axes>"
      ]
     },
     "metadata": {
      "tags": []
     },
     "output_type": "display_data"
    }
   ],
   "source": [
    "boxPlot_multi('offer_price.value', 'website_name')"
   ]
  },
  {
   "cell_type": "markdown",
   "metadata": {
    "colab_type": "text",
    "id": "ZO2nl1YJif9l"
   },
   "source": [
    "#### Dropping records with invalid URLs"
   ]
  },
  {
   "cell_type": "code",
   "execution_count": 0,
   "metadata": {
    "colab": {},
    "colab_type": "code",
    "id": "QTAXJSXIY1eg"
   },
   "outputs": [],
   "source": [
    "def validate_url(url):\n",
    "  try:\n",
    "    result = urlparse(url)\n",
    "    return all([result.scheme, result.netloc])\n",
    "  except ValueError:\n",
    "    return False"
   ]
  },
  {
   "cell_type": "code",
   "execution_count": 0,
   "metadata": {
    "colab": {},
    "colab_type": "code",
    "id": "fnM0qGgIf_6n"
   },
   "outputs": [],
   "source": [
    "data['valid_url'] = data['url'].apply(lambda link : validate_url(link))"
   ]
  },
  {
   "cell_type": "code",
   "execution_count": 0,
   "metadata": {
    "colab": {
     "base_uri": "https://localhost:8080/",
     "height": 85
    },
    "colab_type": "code",
    "id": "PY2Hf0N5gXL3",
    "outputId": "cf615215-dd72-475d-f3a0-f495c5530c6f"
   },
   "outputs": [
    {
     "name": "stdout",
     "output_type": "stream",
     "text": [
      "Total records with invalid URLs :  16\n"
     ]
    },
    {
     "data": {
      "text/plain": [
       "Int64Index([     0,   9809,  19609,  29455,  39327,  49116,  58949,  68781,\n",
       "            138077, 148065, 158049, 178027, 217981, 257936, 267936, 307932],\n",
       "           dtype='int64')"
      ]
     },
     "execution_count": 39,
     "metadata": {
      "tags": []
     },
     "output_type": "execute_result"
    }
   ],
   "source": [
    "print('Total records with invalid URLs : ',data[data['valid_url'] == False].shape[0])\n",
    "data[data['valid_url'] == False].index"
   ]
  },
  {
   "cell_type": "code",
   "execution_count": 0,
   "metadata": {
    "colab": {
     "base_uri": "https://localhost:8080/",
     "height": 34
    },
    "colab_type": "code",
    "id": "-P8QixRvhggJ",
    "outputId": "b965b011-93ab-457e-bbb7-7c04e9ea6c39"
   },
   "outputs": [
    {
     "name": "stdout",
     "output_type": "stream",
     "text": [
      "Total records with invalid URLs :  0\n"
     ]
    }
   ],
   "source": [
    "data.drop(data[data['valid_url'] == False].index, axis=0, inplace=True)\n",
    "data = data.reset_index()\n",
    "data.drop('index', axis=1, inplace=True)\n",
    "print('Total records with invalid URLs : ',data[data['valid_url'] == False].shape[0])\n",
    "data.drop('valid_url', axis=1, inplace=True)"
   ]
  },
  {
   "cell_type": "markdown",
   "metadata": {
    "colab_type": "text",
    "id": "X9PJ-CKvnw-J"
   },
   "source": [
    "### Data Visualization"
   ]
  },
  {
   "cell_type": "markdown",
   "metadata": {
    "colab_type": "text",
    "id": "A61xNjhTjsC_"
   },
   "source": [
    "#### Bar graphs for top categories"
   ]
  },
  {
   "cell_type": "code",
   "execution_count": 0,
   "metadata": {
    "colab": {},
    "colab_type": "code",
    "id": "Xe_dxkqjHj5o"
   },
   "outputs": [],
   "source": [
    "def barGraph_count(catColumn, top=5):\n",
    "  temp = data[catColumn].value_counts()\n",
    "  temp = temp.reset_index()\n",
    "  temp.columns = [catColumn, 'count']\n",
    "  temp = temp.head(top)\n",
    "  temp = pd.DataFrame(temp)\n",
    "  ax = sns.barplot(x=catColumn, y='count', data=temp)\n",
    "  del temp"
   ]
  },
  {
   "cell_type": "markdown",
   "metadata": {
    "colab_type": "text",
    "id": "c1OrIuipj3Jl"
   },
   "source": [
    "* Top 10 product name\n",
    "* 'logo print T-shirt' and 'logo T-shirt' topping chart with around 375 and 195 products respectively"
   ]
  },
  {
   "cell_type": "code",
   "execution_count": 0,
   "metadata": {
    "colab": {
     "base_uri": "https://localhost:8080/",
     "height": 611
    },
    "colab_type": "code",
    "id": "J14p4Wpyo_dD",
    "outputId": "a2252945-e6c8-4481-f7e9-6f6c7f3cfeae"
   },
   "outputs": [
    {
     "data": {
      "image/png": "[encoded data removed]",
      "text/plain": [
       "<Figure size 1440x720 with 1 Axes>"
      ]
     },
     "metadata": {
      "tags": []
     },
     "output_type": "display_data"
    }
   ],
   "source": [
    "barGraph_count('name', top=10)"
   ]
  },
  {
   "cell_type": "markdown",
   "metadata": {
    "colab_type": "text",
    "id": "UmeTFxadkBjx"
   },
   "source": [
    "* Top 10 brand names\n",
    "* 'next' on top with around 22500 products"
   ]
  },
  {
   "cell_type": "code",
   "execution_count": 0,
   "metadata": {
    "colab": {
     "base_uri": "https://localhost:8080/",
     "height": 611
    },
    "colab_type": "code",
    "id": "WbfhxKN1qdRD",
    "outputId": "6945c38e-9a31-44d3-ec1e-4f32653ecda4"
   },
   "outputs": [
    {
     "data": {
      "image/png": "[encoded data removed]",
      "text/plain": [
       "<Figure size 1440x720 with 1 Axes>"
      ]
     },
     "metadata": {
      "tags": []
     },
     "output_type": "display_data"
    }
   ],
   "source": [
    "barGraph_count('brand_name', top=10)"
   ]
  },
  {
   "cell_type": "markdown",
   "metadata": {
    "colab_type": "text",
    "id": "vTKRj9I0kLGc"
   },
   "source": [
    "* Top 5 websites\n",
    "* www.asos.com with around 95000 products"
   ]
  },
  {
   "cell_type": "code",
   "execution_count": 0,
   "metadata": {
    "colab": {
     "base_uri": "https://localhost:8080/",
     "height": 611
    },
    "colab_type": "code",
    "id": "KG2g5VS2rI_3",
    "outputId": "02e6032b-0a03-44b0-b270-e197d6451caf"
   },
   "outputs": [
    {
     "data": {
      "image/png": "[encoded data removed]",
      "text/plain": [
       "<Figure size 1440x720 with 1 Axes>"
      ]
     },
     "metadata": {
      "tags": []
     },
     "output_type": "display_data"
    }
   ],
   "source": [
    "barGraph_count('website_name')"
   ]
  },
  {
   "cell_type": "markdown",
   "metadata": {
    "colab_type": "text",
    "id": "EX2GOaU8kTyu"
   },
   "source": [
    "#### Bar graphs for top discounts"
   ]
  },
  {
   "cell_type": "code",
   "execution_count": 0,
   "metadata": {
    "colab": {},
    "colab_type": "code",
    "id": "qsSsoeobHmmc"
   },
   "outputs": [],
   "source": [
    "def barGraph_discount(catColumn, top = 10, percent=50):\n",
    "  temp = data.groupby(catColumn)['offer_price.value', 'regular_price.value'].mean()\n",
    "  temp = temp.reset_index()\n",
    "  temp['discount_percent'] = round((1 - temp['offer_price.value']/temp['regular_price.value']) * 100, 2)\n",
    "  temp.sort_values(by=['discount_percent'], inplace=True, ascending=False)\n",
    "  temp = temp.loc[:,[catColumn, 'discount_percent']].head(top)\n",
    "  ax = sns.barplot(x=catColumn, y='discount_percent', data=temp,  palette=\"Blues_d\")\n",
    "  del temp"
   ]
  },
  {
   "cell_type": "markdown",
   "metadata": {
    "colab_type": "text",
    "id": "zCTpBgiUktFt"
   },
   "source": [
    "* Top discounts by brand name\n",
    "* Top 10: projectt, seeker, kowtow, parka london and other are with discounts around 77-84% "
   ]
  },
  {
   "cell_type": "code",
   "execution_count": 0,
   "metadata": {
    "colab": {
     "base_uri": "https://localhost:8080/",
     "height": 611
    },
    "colab_type": "code",
    "id": "xZGOv1vKH3c4",
    "outputId": "fd9c07ab-954a-4fda-cc9f-5a1884afd254"
   },
   "outputs": [
    {
     "data": {
      "image/png": "[encoded data removed]",
      "text/plain": [
       "<Figure size 1440x720 with 1 Axes>"
      ]
     },
     "metadata": {
      "tags": []
     },
     "output_type": "display_data"
    }
   ],
   "source": [
    "barGraph_discount('brand_name', top=10, percent=50)"
   ]
  },
  {
   "cell_type": "markdown",
   "metadata": {
    "colab_type": "text",
    "id": "XVZUhprQk-jY"
   },
   "source": [
    "* Top discounts by website name\n",
    "* www.next.co.uk with no discounts at all\n",
    "* www.prettylittlethings with high discounts for around 40%"
   ]
  },
  {
   "cell_type": "code",
   "execution_count": 0,
   "metadata": {
    "colab": {
     "base_uri": "https://localhost:8080/",
     "height": 611
    },
    "colab_type": "code",
    "id": "xizz1TAWKNVA",
    "outputId": "a32341c6-08b3-430f-ab62-38ef30622d3e"
   },
   "outputs": [
    {
     "data": {
      "image/png": "[encoded data removed]",
      "text/plain": [
       "<Figure size 1440x720 with 1 Axes>"
      ]
     },
     "metadata": {
      "tags": []
     },
     "output_type": "display_data"
    }
   ],
   "source": [
    "barGraph_discount('website_name', top=6, percent=0)"
   ]
  },
  {
   "cell_type": "markdown",
   "metadata": {
    "colab_type": "text",
    "id": "fBRBkBronaIy"
   },
   "source": [
    "### Text pre-processing on 'description_text'"
   ]
  },
  {
   "cell_type": "markdown",
   "metadata": {
    "colab_type": "text",
    "id": "n2kmMgSFoG1R"
   },
   "source": [
    "* Function to remove punctuation, stopwords and lemmatization"
   ]
  },
  {
   "cell_type": "code",
   "execution_count": 0,
   "metadata": {
    "colab": {},
    "colab_type": "code",
    "id": "Nlg7MUcEN43N"
   },
   "outputs": [],
   "source": [
    "def remove_punctuation(text):\n",
    "  return [word for word in text if word.isalpha()]\n",
    "\n",
    "def remove_punctuation_from_word(text):\n",
    "  token = []\n",
    "  for word in text:\n",
    "    if word[-1].isalpha():\n",
    "      token.append(word)\n",
    "    else:\n",
    "      token.append(word[:-1]) \n",
    "  return token\n",
    "\n",
    "stop_words = stopwords.words('english')\n",
    "def remove_stopword(text):\n",
    "  return [w for w in text if not w in stop_words]\n",
    "    \n",
    "def lemmatizing(text):\n",
    "  lemmatizer = WordNetLemmatizer()\n",
    "  return [lemmatizer.lemmatize(word) for word in text]\n"
   ]
  },
  {
   "cell_type": "markdown",
   "metadata": {
    "colab_type": "text",
    "id": "cbkx1RTXoSie"
   },
   "source": [
    "* Here we perform processing on 'description_text'\n",
    "* Convert to lowercase -> tokenization -> removing punctuation -> removing stop words -> Lemmatization"
   ]
  },
  {
   "cell_type": "code",
   "execution_count": 0,
   "metadata": {
    "colab": {
     "base_uri": "https://localhost:8080/",
     "height": 187
    },
    "colab_type": "code",
    "id": "Y4sWRBqSzSZw",
    "outputId": "ca50ef83-7cab-4cc3-920d-4346555988e3"
   },
   "outputs": [
    {
     "name": "stdout",
     "output_type": "stream",
     "text": [
      "Converting to lower case...\n",
      "Done\n",
      "Tokenizing...\n",
      "Done\n",
      "Removing punctuation...\n",
      "Done\n",
      "Removing Stop words...\n",
      "Done\n",
      "Lemmatizing...\n",
      "Text processing Done\n"
     ]
    }
   ],
   "source": [
    "data['processed_text'] = data['description_text']\n",
    "\n",
    "print('Converting to lower case...')\n",
    "data['processed_text'] = [text.strip().lower() for text in data['processed_text']]\n",
    "print('Done')\n",
    "\n",
    "print('Tokenizing...')\n",
    "data['processed_text'] = [word_tokenize(text) for text in data['processed_text']]\n",
    "print('Done')\n",
    "\n",
    "print('Removing punctuation...')\n",
    "data['processed_text'] = [remove_punctuation(text) for text in data['processed_text']]\n",
    "data['processed_text'] = [remove_punctuation_from_word(text) for text in data['processed_text']]\n",
    "print('Done')\n",
    "\n",
    "print('Removing Stop words...')\n",
    "data['processed_text'] = [remove_stopword(text) for text in data['processed_text']]\n",
    "print('Done')\n",
    "\n",
    "print('Lemmatizing...')\n",
    "data['processed_text'] = [lemmatizing(text) for text in data['processed_text']]\n",
    "print('Text processing Done')"
   ]
  },
  {
   "cell_type": "markdown",
   "metadata": {
    "colab_type": "text",
    "id": "ChmR5ptdo3M-"
   },
   "source": [
    "* Quick look at processed text"
   ]
  },
  {
   "cell_type": "code",
   "execution_count": 0,
   "metadata": {
    "colab": {
     "base_uri": "https://localhost:8080/",
     "height": 359
    },
    "colab_type": "code",
    "id": "hmcmRnNoNi3h",
    "outputId": "4a7706d3-8192-4820-d3d7-e6004259ea01"
   },
   "outputs": [
    {
     "data": {
      "text/html": [
       "<div>\n",
       "<style scoped>\n",
       "    .dataframe tbody tr th:only-of-type {\n",
       "        vertical-align: middle;\n",
       "    }\n",
       "\n",
       "    .dataframe tbody tr th {\n",
       "        vertical-align: top;\n",
       "    }\n",
       "\n",
       "    .dataframe thead th {\n",
       "        text-align: right;\n",
       "    }\n",
       "</style>\n",
       "<table border=\"1\" class=\"dataframe\">\n",
       "  <thead>\n",
       "    <tr style=\"text-align: right;\">\n",
       "      <th></th>\n",
       "      <th>description_text</th>\n",
       "      <th>processed_text</th>\n",
       "    </tr>\n",
       "  </thead>\n",
       "  <tbody>\n",
       "    <tr>\n",
       "      <th>0</th>\n",
       "      <td>100% Polyester.</td>\n",
       "      <td>[polyester]</td>\n",
       "    </tr>\n",
       "    <tr>\n",
       "      <th>1</th>\n",
       "      <td>Nike Swim Boys' Solid Lap 4 Volley Short is a ...</td>\n",
       "      <td>[nike, swim, boy, solid, lap, volley, short, d...</td>\n",
       "    </tr>\n",
       "    <tr>\n",
       "      <th>2</th>\n",
       "      <td>Height 85cm</td>\n",
       "      <td>[height]</td>\n",
       "    </tr>\n",
       "    <tr>\n",
       "      <th>3</th>\n",
       "      <td>100% Polyester.</td>\n",
       "      <td>[polyester]</td>\n",
       "    </tr>\n",
       "    <tr>\n",
       "      <th>4</th>\n",
       "      <td>In a leopard print this tie up heel.</td>\n",
       "      <td>[leopard, print, tie, heel]</td>\n",
       "    </tr>\n",
       "    <tr>\n",
       "      <th>5</th>\n",
       "      <td>70% Viscose, 26% Nylon, 4% Elastane.</td>\n",
       "      <td>[viscose, nylon, elastane]</td>\n",
       "    </tr>\n",
       "    <tr>\n",
       "      <th>6</th>\n",
       "      <td>Wish your loved one a Hoppy Birthday with this...</td>\n",
       "      <td>[wish, loved, one, hoppy, birthday, beer, hawk...</td>\n",
       "    </tr>\n",
       "    <tr>\n",
       "      <th>7</th>\n",
       "      <td>With adjustable strap fastening.</td>\n",
       "      <td>[adjustable, strap, fastening]</td>\n",
       "    </tr>\n",
       "    <tr>\n",
       "      <th>8</th>\n",
       "      <td>18 carat gold-plated sterling silver. Comes in...</td>\n",
       "      <td>[carat, sterling, silver, come, gift, box]</td>\n",
       "    </tr>\n",
       "    <tr>\n",
       "      <th>9</th>\n",
       "      <td>With blackout lining.</td>\n",
       "      <td>[blackout, lining]</td>\n",
       "    </tr>\n",
       "  </tbody>\n",
       "</table>\n",
       "</div>"
      ],
      "text/plain": [
       "                                    description_text                                     processed_text\n",
       "0                                    100% Polyester.                                        [polyester]\n",
       "1  Nike Swim Boys' Solid Lap 4 Volley Short is a ...  [nike, swim, boy, solid, lap, volley, short, d...\n",
       "2                                        Height 85cm                                           [height]\n",
       "3                                    100% Polyester.                                        [polyester]\n",
       "4               In a leopard print this tie up heel.                        [leopard, print, tie, heel]\n",
       "5               70% Viscose, 26% Nylon, 4% Elastane.                         [viscose, nylon, elastane]\n",
       "6  Wish your loved one a Hoppy Birthday with this...  [wish, loved, one, hoppy, birthday, beer, hawk...\n",
       "7                   With adjustable strap fastening.                     [adjustable, strap, fastening]\n",
       "8  18 carat gold-plated sterling silver. Comes in...         [carat, sterling, silver, come, gift, box]\n",
       "9                              With blackout lining.                                 [blackout, lining]"
      ]
     },
     "execution_count": 50,
     "metadata": {
      "tags": []
     },
     "output_type": "execute_result"
    }
   ],
   "source": [
    "data.loc[:,['description_text','processed_text']].head(10)"
   ]
  },
  {
   "cell_type": "markdown",
   "metadata": {
    "colab_type": "text",
    "id": "1XHoDcS2o9Va"
   },
   "source": [
    "#### Word Cloud with processed text and Standard media URL"
   ]
  },
  {
   "cell_type": "code",
   "execution_count": 0,
   "metadata": {
    "colab": {},
    "colab_type": "code",
    "id": "rNLRZDCFDVIr"
   },
   "outputs": [],
   "source": [
    "def img_with_wordcloud(row):\n",
    "  word_cloud = WordCloud(max_words=5, background_color='white').generate(' '.join(data['processed_text'][row]))\n",
    "  plt.figure(figsize=(5,5),facecolor = 'white', edgecolor='blue')\n",
    "  plt.imshow(word_cloud)\n",
    "  plt.axis('off')\n",
    "  plt.tight_layout(pad=0)\n",
    "  plt.show()\n",
    "  display(Image(url= data['standard_media_url'][row]))"
   ]
  },
  {
   "cell_type": "code",
   "execution_count": 0,
   "metadata": {
    "colab": {
     "base_uri": "https://localhost:8080/",
     "height": 687
    },
    "colab_type": "code",
    "id": "bqRzzDUvu90d",
    "outputId": "1d5efd8c-32cc-4ad9-d977-6a1e211ade98"
   },
   "outputs": [
    {
     "data": {
      "image/png": "[encoded data removed]",
      "text/plain": [
       "<Figure size 360x360 with 1 Axes>"
      ]
     },
     "metadata": {
      "tags": []
     },
     "output_type": "display_data"
    },
    {
     "data": {
      "text/html": [
       "<img src=\"https://xcdn.next.co.uk/COMMON/Items/Default/Default/Publications/G52/shotview-315x472/146/915-749s.jpg\"/>"
      ],
      "text/plain": [
       "<IPython.core.display.Image object>"
      ]
     },
     "metadata": {
      "tags": []
     },
     "output_type": "display_data"
    }
   ],
   "source": [
    "img_with_wordcloud(4123)"
   ]
  },
  {
   "cell_type": "code",
   "execution_count": 0,
   "metadata": {
    "colab": {
     "base_uri": "https://localhost:8080/",
     "height": 687
    },
    "colab_type": "code",
    "id": "5n6TAJOzwEFO",
    "outputId": "44c1d6dd-27f0-4dc3-bdd4-57ea2ea09b49"
   },
   "outputs": [
    {
     "data": {
      "image/png": "[encoded data removed]",
      "text/plain": [
       "<Figure size 360x360 with 1 Axes>"
      ]
     },
     "metadata": {
      "tags": []
     },
     "output_type": "display_data"
    },
    {
     "data": {
      "text/html": [
       "<img src=\"https://xcdn.next.co.uk/Common/Items/Default/Default/ItemImages/AltItemShot/315x472/316250.jpg\"/>"
      ],
      "text/plain": [
       "<IPython.core.display.Image object>"
      ]
     },
     "metadata": {
      "tags": []
     },
     "output_type": "display_data"
    }
   ],
   "source": [
    "img_with_wordcloud(2575)"
   ]
  },
  {
   "cell_type": "code",
   "execution_count": 0,
   "metadata": {
    "colab": {
     "base_uri": "https://localhost:8080/",
     "height": 687
    },
    "colab_type": "code",
    "id": "w9bhLix-LvWd",
    "outputId": "5ab58e88-a1b6-4014-a27b-5fe89b1d5428"
   },
   "outputs": [
    {
     "data": {
      "image/png": "[encoded data removed]",
      "text/plain": [
       "<Figure size 360x360 with 1 Axes>"
      ]
     },
     "metadata": {
      "tags": []
     },
     "output_type": "display_data"
    },
    {
     "data": {
      "text/html": [
       "<img src=\"https://xcdn.next.co.uk/Common/Items/Default/Default/ItemImages/AltItemShot/315x472/335026.jpg\"/>"
      ],
      "text/plain": [
       "<IPython.core.display.Image object>"
      ]
     },
     "metadata": {
      "tags": []
     },
     "output_type": "display_data"
    }
   ],
   "source": [
    "img_with_wordcloud(1)"
   ]
  },
  {
   "cell_type": "code",
   "execution_count": 0,
   "metadata": {
    "colab": {
     "base_uri": "https://localhost:8080/",
     "height": 687
    },
    "colab_type": "code",
    "id": "3-C7PFTHH1hW",
    "outputId": "a90c5e39-e4a1-445c-cbd0-fd5b5433bfc3"
   },
   "outputs": [
    {
     "data": {
      "image/png": "[encoded data removed]",
      "text/plain": [
       "<Figure size 360x360 with 1 Axes>"
      ]
     },
     "metadata": {
      "tags": []
     },
     "output_type": "display_data"
    },
    {
     "data": {
      "text/html": [
       "<img src=\"https://xcdn.next.co.uk/Common/Items/Default/Default/ItemImages/AltItemShot/315x472/L03697.jpg\"/>"
      ],
      "text/plain": [
       "<IPython.core.display.Image object>"
      ]
     },
     "metadata": {
      "tags": []
     },
     "output_type": "display_data"
    }
   ],
   "source": [
    "img_with_wordcloud(2745)"
   ]
  },
  {
   "cell_type": "code",
   "execution_count": 0,
   "metadata": {
    "colab": {
     "base_uri": "https://localhost:8080/",
     "height": 687
    },
    "colab_type": "code",
    "id": "K5-EnUtyHibJ",
    "outputId": "cf08faa6-cf9f-421d-b6e1-06968a64f482"
   },
   "outputs": [
    {
     "data": {
      "image/png": "[encoded data removed]",
      "text/plain": [
       "<Figure size 360x360 with 1 Axes>"
      ]
     },
     "metadata": {
      "tags": []
     },
     "output_type": "display_data"
    },
    {
     "data": {
      "text/html": [
       "<img src=\"https://xcdn.next.co.uk/Common/Items/Default/Default/ItemImages/AltItemShot/315x472/588320.jpg\"/>"
      ],
      "text/plain": [
       "<IPython.core.display.Image object>"
      ]
     },
     "metadata": {
      "tags": []
     },
     "output_type": "display_data"
    }
   ],
   "source": [
    "img_with_wordcloud(564)"
   ]
  },
  {
   "cell_type": "markdown",
   "metadata": {
    "colab_type": "text",
    "id": "zCRrSzGvqG6H"
   },
   "source": [
    "#### Creating Tags for products with processed text"
   ]
  },
  {
   "cell_type": "markdown",
   "metadata": {
    "colab_type": "text",
    "id": "tT0psdLlpPBp"
   },
   "source": [
    "* As we see processed text are almost can be used as tags for image\n",
    "* So, creating tag columns with top 3 words from processed text"
   ]
  },
  {
   "cell_type": "code",
   "execution_count": 0,
   "metadata": {
    "colab": {},
    "colab_type": "code",
    "id": "mYbIyKeYvRlQ"
   },
   "outputs": [],
   "source": [
    "def get_tag(text):\n",
    "  tag = {}\n",
    "  try:\n",
    "    tagDict = WordCloud(max_words=3).generate(' '.join(text)).words_\n",
    "    tag['tag_1'] = list(tagDict.keys())[0]\n",
    "    try:\n",
    "      tag['tag_2'] = list(tagDict.keys())[1]\n",
    "    except IndexError:\n",
    "      tag['tag_2'] = ''\n",
    "    try:\n",
    "      tag['tag_3'] = list(tagDict.keys())[2]\n",
    "    except IndexError:\n",
    "      tag['tag_3'] = ''\n",
    "    return tag\n",
    "  except ValueError:\n",
    "    return {}"
   ]
  },
  {
   "cell_type": "code",
   "execution_count": 0,
   "metadata": {
    "colab": {
     "base_uri": "https://localhost:8080/",
     "height": 204
    },
    "colab_type": "code",
    "id": "SXISFHXM6x_V",
    "outputId": "3288da08-fc63-4e97-e602-02e34a8b2900"
   },
   "outputs": [
    {
     "data": {
      "text/html": [
       "<div>\n",
       "<style scoped>\n",
       "    .dataframe tbody tr th:only-of-type {\n",
       "        vertical-align: middle;\n",
       "    }\n",
       "\n",
       "    .dataframe tbody tr th {\n",
       "        vertical-align: top;\n",
       "    }\n",
       "\n",
       "    .dataframe thead th {\n",
       "        text-align: right;\n",
       "    }\n",
       "</style>\n",
       "<table border=\"1\" class=\"dataframe\">\n",
       "  <thead>\n",
       "    <tr style=\"text-align: right;\">\n",
       "      <th></th>\n",
       "      <th>tag_1</th>\n",
       "      <th>tag_2</th>\n",
       "      <th>tag_3</th>\n",
       "    </tr>\n",
       "  </thead>\n",
       "  <tbody>\n",
       "    <tr>\n",
       "      <th>0</th>\n",
       "      <td>polyester</td>\n",
       "      <td>NaN</td>\n",
       "      <td>NaN</td>\n",
       "    </tr>\n",
       "    <tr>\n",
       "      <th>1</th>\n",
       "      <td>lap</td>\n",
       "      <td>short</td>\n",
       "      <td>swimming</td>\n",
       "    </tr>\n",
       "    <tr>\n",
       "      <th>2</th>\n",
       "      <td>height</td>\n",
       "      <td>NaN</td>\n",
       "      <td>NaN</td>\n",
       "    </tr>\n",
       "    <tr>\n",
       "      <th>3</th>\n",
       "      <td>polyester</td>\n",
       "      <td>NaN</td>\n",
       "      <td>NaN</td>\n",
       "    </tr>\n",
       "    <tr>\n",
       "      <th>4</th>\n",
       "      <td>leopard</td>\n",
       "      <td>print</td>\n",
       "      <td>tie</td>\n",
       "    </tr>\n",
       "  </tbody>\n",
       "</table>\n",
       "</div>"
      ],
      "text/plain": [
       "       tag_1  tag_2     tag_3\n",
       "0  polyester    NaN       NaN\n",
       "1        lap  short  swimming\n",
       "2     height    NaN       NaN\n",
       "3  polyester    NaN       NaN\n",
       "4    leopard  print       tie"
      ]
     },
     "execution_count": 58,
     "metadata": {
      "tags": []
     },
     "output_type": "execute_result"
    }
   ],
   "source": [
    "# tags = [get_tag(x) for x in data['processed_text']]\n",
    "# tags = pd.DataFrame(tags)\n",
    "# tags.to_csv(path+'tags.csv',index=False)\n",
    "tags = pd.read_csv(path+'tags.csv', header=0)\n",
    "tags.head()"
   ]
  },
  {
   "cell_type": "markdown",
   "metadata": {
    "colab_type": "text",
    "id": "NEinvugiLm2N"
   },
   "source": [
    "#### Bar graph for tags"
   ]
  },
  {
   "cell_type": "code",
   "execution_count": 0,
   "metadata": {
    "colab": {},
    "colab_type": "code",
    "id": "2ehdjTzasANr"
   },
   "outputs": [],
   "source": [
    "def barGraph_tags(top = 5):\n",
    "  temp = pd.concat([tags['tag_1'],tags['tag_2'],tags['tag_3']]).value_counts()\n",
    "  temp = pd.DataFrame(temp)\n",
    "  temp = temp.reset_index()\n",
    "  temp = temp.head(10)\n",
    "  ax = sns.barplot(x='index', y=0, data=temp)"
   ]
  },
  {
   "cell_type": "markdown",
   "metadata": {
    "colab_type": "text",
    "id": "nuJPQAntL0yC"
   },
   "source": [
    "* 'Cotton' is most used word to describe, followed by 'look', 'design' and 'black'"
   ]
  },
  {
   "cell_type": "code",
   "execution_count": 0,
   "metadata": {
    "colab": {
     "base_uri": "https://localhost:8080/",
     "height": 611
    },
    "colab_type": "code",
    "id": "fOMEeYQxvCbb",
    "outputId": "60b91374-208a-4540-af4b-c72378a82ed7"
   },
   "outputs": [
    {
     "data": {
      "image/png": "[encoded data removed]",
      "text/plain": [
       "<Figure size 1440x720 with 1 Axes>"
      ]
     },
     "metadata": {
      "tags": []
     },
     "output_type": "display_data"
    }
   ],
   "source": [
    "barGraph_tags(top=10)"
   ]
  },
  {
   "cell_type": "markdown",
   "metadata": {
    "colab_type": "text",
    "id": "-25qzLGVMSWN"
   },
   "source": [
    "* Adding column tag_1, tag_2 and tag_3 to data\n",
    "* Dropping column 'processed_text'"
   ]
  },
  {
   "cell_type": "code",
   "execution_count": 0,
   "metadata": {
    "colab": {},
    "colab_type": "code",
    "id": "Efz59LfEkwnz"
   },
   "outputs": [],
   "source": [
    "data.drop('processed_text', axis = 1, inplace = True)\n",
    "tags = tags.replace(np.nan, '')\n",
    "data = pd.concat([data, tags], axis=1)"
   ]
  },
  {
   "cell_type": "code",
   "execution_count": 0,
   "metadata": {
    "colab": {
     "base_uri": "https://localhost:8080/",
     "height": 462
    },
    "colab_type": "code",
    "id": "A5DT-FmhX4vT",
    "outputId": "cf2dc7bb-3385-49f3-eae1-f9d670000ff1"
   },
   "outputs": [
    {
     "data": {
      "text/html": [
       "<div>\n",
       "<style scoped>\n",
       "    .dataframe tbody tr th:only-of-type {\n",
       "        vertical-align: middle;\n",
       "    }\n",
       "\n",
       "    .dataframe tbody tr th {\n",
       "        vertical-align: top;\n",
       "    }\n",
       "\n",
       "    .dataframe thead th {\n",
       "        text-align: right;\n",
       "    }\n",
       "</style>\n",
       "<table border=\"1\" class=\"dataframe\">\n",
       "  <thead>\n",
       "    <tr style=\"text-align: right;\">\n",
       "      <th></th>\n",
       "      <th>_id</th>\n",
       "      <th>name</th>\n",
       "      <th>website_id</th>\n",
       "      <th>sku</th>\n",
       "      <th>url</th>\n",
       "      <th>description_text</th>\n",
       "      <th>standard_media_url</th>\n",
       "      <th>thumbnail_media_url</th>\n",
       "      <th>large_media_url</th>\n",
       "      <th>offer_price.value</th>\n",
       "      <th>regular_price.value</th>\n",
       "      <th>brand_name</th>\n",
       "      <th>website_name</th>\n",
       "      <th>tag_1</th>\n",
       "      <th>tag_2</th>\n",
       "      <th>tag_3</th>\n",
       "    </tr>\n",
       "  </thead>\n",
       "  <tbody>\n",
       "    <tr>\n",
       "      <th>0</th>\n",
       "      <td>5d0b8aca0db7220b86cb4036</td>\n",
       "      <td>Figleaves Cheetah Satin Pyjama Set</td>\n",
       "      <td>5cff5e7fe40f4900046735fa</td>\n",
       "      <td>319571</td>\n",
       "      <td>https://www.next.co.uk/style/st324987#319571</td>\n",
       "      <td>100% Polyester.</td>\n",
       "      <td>https://xcdn.next.co.uk/Common/Items/Default/D...</td>\n",
       "      <td>No media URL</td>\n",
       "      <td>No media URL</td>\n",
       "      <td>25.0</td>\n",
       "      <td>25.0</td>\n",
       "      <td>figleaves</td>\n",
       "      <td>www.next.co.uk</td>\n",
       "      <td>polyester</td>\n",
       "      <td></td>\n",
       "      <td></td>\n",
       "    </tr>\n",
       "    <tr>\n",
       "      <th>1</th>\n",
       "      <td>5d0b8aca0db7220b86cb4037</td>\n",
       "      <td>Nike Solid 4\" Swim Short</td>\n",
       "      <td>5cff5e7fe40f4900046735fa</td>\n",
       "      <td>335026</td>\n",
       "      <td>https://www.next.co.uk/style/st400645#335026</td>\n",
       "      <td>Nike Swim Boys' Solid Lap 4 Volley Short is a ...</td>\n",
       "      <td>https://xcdn.next.co.uk/Common/Items/Default/D...</td>\n",
       "      <td>No media URL</td>\n",
       "      <td>No media URL</td>\n",
       "      <td>15.0</td>\n",
       "      <td>15.0</td>\n",
       "      <td>nike</td>\n",
       "      <td>www.next.co.uk</td>\n",
       "      <td>lap</td>\n",
       "      <td>short</td>\n",
       "      <td>swimming</td>\n",
       "    </tr>\n",
       "    <tr>\n",
       "      <th>2</th>\n",
       "      <td>5d0b8aca0db7220b86cb4038</td>\n",
       "      <td>Collection Luxe Orchid</td>\n",
       "      <td>5cff5e7fe40f4900046735fa</td>\n",
       "      <td>552266</td>\n",
       "      <td>https://www.next.co.uk/style/st262195#552266</td>\n",
       "      <td>Height 85cm</td>\n",
       "      <td>https://xcdn.next.co.uk/Common/Items/Default/D...</td>\n",
       "      <td>No media URL</td>\n",
       "      <td>No media URL</td>\n",
       "      <td>150.0</td>\n",
       "      <td>150.0</td>\n",
       "      <td>next</td>\n",
       "      <td>www.next.co.uk</td>\n",
       "      <td>height</td>\n",
       "      <td></td>\n",
       "      <td></td>\n",
       "    </tr>\n",
       "    <tr>\n",
       "      <th>3</th>\n",
       "      <td>5d0b8aca0db7220b86cb4039</td>\n",
       "      <td>River Island White Sleeveless Blazer</td>\n",
       "      <td>5cff5e7fe40f4900046735fa</td>\n",
       "      <td>680971</td>\n",
       "      <td>https://www.next.co.uk/style/st440132#680971</td>\n",
       "      <td>100% Polyester.</td>\n",
       "      <td>https://xcdn.next.co.uk/Common/Items/Default/D...</td>\n",
       "      <td>No media URL</td>\n",
       "      <td>No media URL</td>\n",
       "      <td>55.0</td>\n",
       "      <td>55.0</td>\n",
       "      <td>river island</td>\n",
       "      <td>www.next.co.uk</td>\n",
       "      <td>polyester</td>\n",
       "      <td></td>\n",
       "      <td></td>\n",
       "    </tr>\n",
       "    <tr>\n",
       "      <th>4</th>\n",
       "      <td>5d0b8aca0db7220b86cb403a</td>\n",
       "      <td>Faith Animal Print Heel</td>\n",
       "      <td>5cff5e7fe40f4900046735fa</td>\n",
       "      <td>L07550</td>\n",
       "      <td>https://www.next.co.uk/style/esl07550#l07550</td>\n",
       "      <td>In a leopard print this tie up heel.</td>\n",
       "      <td>https://xcdn.next.co.uk/Common/Items/Default/D...</td>\n",
       "      <td>No media URL</td>\n",
       "      <td>No media URL</td>\n",
       "      <td>52.0</td>\n",
       "      <td>52.0</td>\n",
       "      <td>faith</td>\n",
       "      <td>www.next.co.uk</td>\n",
       "      <td>leopard</td>\n",
       "      <td>print</td>\n",
       "      <td>tie</td>\n",
       "    </tr>\n",
       "  </tbody>\n",
       "</table>\n",
       "</div>"
      ],
      "text/plain": [
       "                        _id  ...     tag_3\n",
       "0  5d0b8aca0db7220b86cb4036  ...          \n",
       "1  5d0b8aca0db7220b86cb4037  ...  swimming\n",
       "2  5d0b8aca0db7220b86cb4038  ...          \n",
       "3  5d0b8aca0db7220b86cb4039  ...          \n",
       "4  5d0b8aca0db7220b86cb403a  ...       tie\n",
       "\n",
       "[5 rows x 16 columns]"
      ]
     },
     "execution_count": 62,
     "metadata": {
      "tags": []
     },
     "output_type": "execute_result"
    }
   ],
   "source": [
    "data.head()"
   ]
  },
  {
   "cell_type": "markdown",
   "metadata": {
    "colab_type": "text",
    "id": "nuo-8meNMduq"
   },
   "source": [
    "#### Let's check if we can cluster data based on brand_name, website_name, and tags columns for products"
   ]
  },
  {
   "cell_type": "markdown",
   "metadata": {
    "colab_type": "text",
    "id": "Ue04k3PQAzNu"
   },
   "source": [
    "* Taking subset of data with those columns in cluster_data"
   ]
  },
  {
   "cell_type": "code",
   "execution_count": 0,
   "metadata": {
    "colab": {
     "base_uri": "https://localhost:8080/",
     "height": 204
    },
    "colab_type": "code",
    "id": "h2LIzPIcyj-C",
    "outputId": "678706e7-ad4d-497c-ee78-b343e54fba03"
   },
   "outputs": [
    {
     "data": {
      "text/html": [
       "<div>\n",
       "<style scoped>\n",
       "    .dataframe tbody tr th:only-of-type {\n",
       "        vertical-align: middle;\n",
       "    }\n",
       "\n",
       "    .dataframe tbody tr th {\n",
       "        vertical-align: top;\n",
       "    }\n",
       "\n",
       "    .dataframe thead th {\n",
       "        text-align: right;\n",
       "    }\n",
       "</style>\n",
       "<table border=\"1\" class=\"dataframe\">\n",
       "  <thead>\n",
       "    <tr style=\"text-align: right;\">\n",
       "      <th></th>\n",
       "      <th>brand_name</th>\n",
       "      <th>website_name</th>\n",
       "      <th>tag_1</th>\n",
       "      <th>tag_2</th>\n",
       "      <th>tag_3</th>\n",
       "    </tr>\n",
       "  </thead>\n",
       "  <tbody>\n",
       "    <tr>\n",
       "      <th>0</th>\n",
       "      <td>figleaves</td>\n",
       "      <td>www.next.co.uk</td>\n",
       "      <td>polyester</td>\n",
       "      <td></td>\n",
       "      <td></td>\n",
       "    </tr>\n",
       "    <tr>\n",
       "      <th>1</th>\n",
       "      <td>nike</td>\n",
       "      <td>www.next.co.uk</td>\n",
       "      <td>lap</td>\n",
       "      <td>short</td>\n",
       "      <td>swimming</td>\n",
       "    </tr>\n",
       "    <tr>\n",
       "      <th>2</th>\n",
       "      <td>next</td>\n",
       "      <td>www.next.co.uk</td>\n",
       "      <td>height</td>\n",
       "      <td></td>\n",
       "      <td></td>\n",
       "    </tr>\n",
       "    <tr>\n",
       "      <th>3</th>\n",
       "      <td>river island</td>\n",
       "      <td>www.next.co.uk</td>\n",
       "      <td>polyester</td>\n",
       "      <td></td>\n",
       "      <td></td>\n",
       "    </tr>\n",
       "    <tr>\n",
       "      <th>4</th>\n",
       "      <td>faith</td>\n",
       "      <td>www.next.co.uk</td>\n",
       "      <td>leopard</td>\n",
       "      <td>print</td>\n",
       "      <td>tie</td>\n",
       "    </tr>\n",
       "  </tbody>\n",
       "</table>\n",
       "</div>"
      ],
      "text/plain": [
       "     brand_name    website_name      tag_1  tag_2     tag_3\n",
       "0     figleaves  www.next.co.uk  polyester                 \n",
       "1          nike  www.next.co.uk        lap  short  swimming\n",
       "2          next  www.next.co.uk     height                 \n",
       "3  river island  www.next.co.uk  polyester                 \n",
       "4         faith  www.next.co.uk    leopard  print       tie"
      ]
     },
     "execution_count": 63,
     "metadata": {
      "tags": []
     },
     "output_type": "execute_result"
    }
   ],
   "source": [
    "cluster_data = data.loc[:,['brand_name', 'website_name', 'tag_1', 'tag_2', 'tag_3']]\n",
    "cluster_data.head()"
   ]
  },
  {
   "cell_type": "markdown",
   "metadata": {
    "colab_type": "text",
    "id": "0-_F_cXqA7Bd"
   },
   "source": [
    "* Preprocessing"
   ]
  },
  {
   "cell_type": "code",
   "execution_count": 0,
   "metadata": {
    "colab": {
     "base_uri": "https://localhost:8080/",
     "height": 204
    },
    "colab_type": "code",
    "id": "20RPSX_JjHX9",
    "outputId": "f7a9591e-c1d2-498c-fc7b-160a2dbf5030"
   },
   "outputs": [
    {
     "data": {
      "text/html": [
       "<div>\n",
       "<style scoped>\n",
       "    .dataframe tbody tr th:only-of-type {\n",
       "        vertical-align: middle;\n",
       "    }\n",
       "\n",
       "    .dataframe tbody tr th {\n",
       "        vertical-align: top;\n",
       "    }\n",
       "\n",
       "    .dataframe thead th {\n",
       "        text-align: right;\n",
       "    }\n",
       "</style>\n",
       "<table border=\"1\" class=\"dataframe\">\n",
       "  <thead>\n",
       "    <tr style=\"text-align: right;\">\n",
       "      <th></th>\n",
       "      <th>brand_name</th>\n",
       "      <th>website_name</th>\n",
       "      <th>tag_1</th>\n",
       "      <th>tag_2</th>\n",
       "      <th>tag_3</th>\n",
       "    </tr>\n",
       "  </thead>\n",
       "  <tbody>\n",
       "    <tr>\n",
       "      <th>0</th>\n",
       "      <td>1399</td>\n",
       "      <td>4</td>\n",
       "      <td>4028</td>\n",
       "      <td>0</td>\n",
       "      <td>0</td>\n",
       "    </tr>\n",
       "    <tr>\n",
       "      <th>1</th>\n",
       "      <td>2561</td>\n",
       "      <td>4</td>\n",
       "      <td>2903</td>\n",
       "      <td>5761</td>\n",
       "      <td>7308</td>\n",
       "    </tr>\n",
       "    <tr>\n",
       "      <th>2</th>\n",
       "      <td>2550</td>\n",
       "      <td>4</td>\n",
       "      <td>2407</td>\n",
       "      <td>0</td>\n",
       "      <td>0</td>\n",
       "    </tr>\n",
       "    <tr>\n",
       "      <th>3</th>\n",
       "      <td>3011</td>\n",
       "      <td>4</td>\n",
       "      <td>4028</td>\n",
       "      <td>0</td>\n",
       "      <td>0</td>\n",
       "    </tr>\n",
       "    <tr>\n",
       "      <th>4</th>\n",
       "      <td>1350</td>\n",
       "      <td>4</td>\n",
       "      <td>2973</td>\n",
       "      <td>4992</td>\n",
       "      <td>7529</td>\n",
       "    </tr>\n",
       "  </tbody>\n",
       "</table>\n",
       "</div>"
      ],
      "text/plain": [
       "   brand_name  website_name  tag_1  tag_2  tag_3\n",
       "0        1399             4   4028      0      0\n",
       "1        2561             4   2903   5761   7308\n",
       "2        2550             4   2407      0      0\n",
       "3        3011             4   4028      0      0\n",
       "4        1350             4   2973   4992   7529"
      ]
     },
     "execution_count": 64,
     "metadata": {
      "tags": []
     },
     "output_type": "execute_result"
    }
   ],
   "source": [
    "le = preprocessing.LabelEncoder()\n",
    "for c in cluster_data.columns:\n",
    "  cluster_data[c] = le.fit_transform(cluster_data[c])\n",
    "cluster_data.head()"
   ]
  },
  {
   "cell_type": "markdown",
   "metadata": {
    "colab_type": "text",
    "id": "bg5gGQbQBHE9"
   },
   "source": [
    "* Applying DBSCAN, as we don't know how many categories of product do we have"
   ]
  },
  {
   "cell_type": "code",
   "execution_count": 0,
   "metadata": {
    "colab": {
     "base_uri": "https://localhost:8080/",
     "height": 34
    },
    "colab_type": "code",
    "id": "H1CzR6A5GRew",
    "outputId": "5235e58b-8de3-40c2-ccdd-92488fb75346"
   },
   "outputs": [
    {
     "name": "stdout",
     "output_type": "stream",
     "text": [
      "Number of clusters:  61\n"
     ]
    }
   ],
   "source": [
    "db = DBSCAN(eps=1, min_samples=100).fit(cluster_data) \n",
    "core_samples_mask = np.zeros_like(db.labels_, dtype=bool) \n",
    "core_samples_mask[db.core_sample_indices_] = True\n",
    "labels = db.labels_ \n",
    "  \n",
    "# Number of clusters in labels, ignoring noise if present. \n",
    "n_clusters_ = len(set(labels)) - (1 if -1 in labels else 0) \n",
    "print('Number of clusters: ',n_clusters_)"
   ]
  },
  {
   "cell_type": "markdown",
   "metadata": {
    "colab_type": "text",
    "id": "vhHzK0jXBjxL"
   },
   "source": [
    "* Creating column cluster number for each product"
   ]
  },
  {
   "cell_type": "code",
   "execution_count": 0,
   "metadata": {
    "colab": {},
    "colab_type": "code",
    "id": "G71fr_Kxn8gp"
   },
   "outputs": [],
   "source": [
    "data['clusters'] = labels"
   ]
  },
  {
   "cell_type": "markdown",
   "metadata": {
    "colab_type": "text",
    "id": "TY1C0UJIBsT7"
   },
   "source": [
    "#### And a check on random cluster number and standard media URL"
   ]
  },
  {
   "cell_type": "code",
   "execution_count": 0,
   "metadata": {
    "colab": {},
    "colab_type": "code",
    "id": "bIWrJOw1o0ML"
   },
   "outputs": [],
   "source": [
    "def checkClusters(clusterNumber):\n",
    "  temp = data[data['clusters'] == clusterNumber].head()\n",
    "  for url in temp['standard_media_url'].values:\n",
    "    display(Image(url= url))"
   ]
  },
  {
   "cell_type": "markdown",
   "metadata": {
    "colab_type": "text",
    "id": "ufmPHvXgB0Es"
   },
   "source": [
    "* Cluster with adult footwears"
   ]
  },
  {
   "cell_type": "code",
   "execution_count": 0,
   "metadata": {
    "colab": {
     "base_uri": "https://localhost:8080/",
     "height": 1000
    },
    "colab_type": "code",
    "id": "4E7YPAXO1jYR",
    "outputId": "30e7bc35-2fa8-409a-800f-5c9190160c83"
   },
   "outputs": [
    {
     "data": {
      "text/html": [
       "<img src=\"https://xcdn.next.co.uk/Common/Items/Default/Default/ItemImages/AltItemShot/315x472/313005.jpg\"/>"
      ],
      "text/plain": [
       "<IPython.core.display.Image object>"
      ]
     },
     "metadata": {
      "tags": []
     },
     "output_type": "display_data"
    },
    {
     "data": {
      "text/html": [
       "<img src=\"https://xcdn.next.co.uk/COMMON/Items/Default/Default/Publications/G72/shotview-315x472/2538/520-615s.jpg\"/>"
      ],
      "text/plain": [
       "<IPython.core.display.Image object>"
      ]
     },
     "metadata": {
      "tags": []
     },
     "output_type": "display_data"
    },
    {
     "data": {
      "text/html": [
       "<img src=\"https://xcdn.next.co.uk/Common/Items/Default/Default/ItemImages/AltItemShot/315x472/329662.jpg\"/>"
      ],
      "text/plain": [
       "<IPython.core.display.Image object>"
      ]
     },
     "metadata": {
      "tags": []
     },
     "output_type": "display_data"
    },
    {
     "data": {
      "text/html": [
       "<img src=\"https://xcdn.next.co.uk/Common/Items/Default/Default/ItemImages/AltItemShot/315x472/303072.jpg\"/>"
      ],
      "text/plain": [
       "<IPython.core.display.Image object>"
      ]
     },
     "metadata": {
      "tags": []
     },
     "output_type": "display_data"
    },
    {
     "data": {
      "text/html": [
       "<img src=\"https://xcdn.next.co.uk/Common/Items/Default/Default/ItemImages/AltItemShot/315x472/563793.jpg\"/>"
      ],
      "text/plain": [
       "<IPython.core.display.Image object>"
      ]
     },
     "metadata": {
      "tags": []
     },
     "output_type": "display_data"
    }
   ],
   "source": [
    "checkClusters(24)"
   ]
  },
  {
   "cell_type": "markdown",
   "metadata": {
    "colab_type": "text",
    "id": "6KkK6E7HB8u7"
   },
   "source": [
    "* Cluster with women wears with some specific type of dress"
   ]
  },
  {
   "cell_type": "code",
   "execution_count": 0,
   "metadata": {
    "colab": {
     "base_uri": "https://localhost:8080/",
     "height": 1000
    },
    "colab_type": "code",
    "id": "oZm3U1oBCCw5",
    "outputId": "7013e641-6d7b-4fc9-8311-8058c9be7554"
   },
   "outputs": [
    {
     "data": {
      "text/html": [
       "<img src=\"https://xcdn.next.co.uk/Common/Items/Default/Default/ItemImages/AltItemShot/315x472/506484.jpg\"/>"
      ],
      "text/plain": [
       "<IPython.core.display.Image object>"
      ]
     },
     "metadata": {
      "tags": []
     },
     "output_type": "display_data"
    },
    {
     "data": {
      "text/html": [
       "<img src=\"https://xcdn.next.co.uk/Common/Items/Default/Default/ItemImages/AltItemShot/315x472/506484.jpg\"/>"
      ],
      "text/plain": [
       "<IPython.core.display.Image object>"
      ]
     },
     "metadata": {
      "tags": []
     },
     "output_type": "display_data"
    },
    {
     "data": {
      "text/html": [
       "<img src=\"https://xcdn.next.co.uk/Common/Items/Default/Default/ItemImages/AltItemShot/315x472/320936.jpg\"/>"
      ],
      "text/plain": [
       "<IPython.core.display.Image object>"
      ]
     },
     "metadata": {
      "tags": []
     },
     "output_type": "display_data"
    },
    {
     "data": {
      "text/html": [
       "<img src=\"https://xcdn.next.co.uk/Common/Items/Default/Default/ItemImages/AltItemShot/315x472/557048.jpg\"/>"
      ],
      "text/plain": [
       "<IPython.core.display.Image object>"
      ]
     },
     "metadata": {
      "tags": []
     },
     "output_type": "display_data"
    },
    {
     "data": {
      "text/html": [
       "<img src=\"https://xcdn.next.co.uk/Common/Items/Default/Default/ItemImages/AltItemShot/315x472/955086.jpg\"/>"
      ],
      "text/plain": [
       "<IPython.core.display.Image object>"
      ]
     },
     "metadata": {
      "tags": []
     },
     "output_type": "display_data"
    }
   ],
   "source": [
    "checkClusters(25)"
   ]
  },
  {
   "cell_type": "markdown",
   "metadata": {
    "colab_type": "text",
    "id": "nmpkfP-cCgfG"
   },
   "source": [
    "* Cluster with bedsheet and pillow cover "
   ]
  },
  {
   "cell_type": "code",
   "execution_count": 0,
   "metadata": {
    "colab": {
     "base_uri": "https://localhost:8080/",
     "height": 1000
    },
    "colab_type": "code",
    "id": "mMxElM902Ez-",
    "outputId": "07f4c411-f8d9-4f04-d685-01d4f26d525f"
   },
   "outputs": [
    {
     "data": {
      "text/html": [
       "<img src=\"https://xcdn.next.co.uk/COMMON/Items/Default/Default/Publications/G52/shotview-315x472/10170/600-993s.jpg\"/>"
      ],
      "text/plain": [
       "<IPython.core.display.Image object>"
      ]
     },
     "metadata": {
      "tags": []
     },
     "output_type": "display_data"
    },
    {
     "data": {
      "text/html": [
       "<img src=\"https://xcdn.next.co.uk/COMMON/Items/Default/Default/Publications/G82/shotview-315x472/10025/645-366s.jpg\"/>"
      ],
      "text/plain": [
       "<IPython.core.display.Image object>"
      ]
     },
     "metadata": {
      "tags": []
     },
     "output_type": "display_data"
    },
    {
     "data": {
      "text/html": [
       "<img src=\"https://xcdn.next.co.uk/COMMON/Items/Default/Default/Publications/G52/shotview-315x472/8184/150-263s.jpg\"/>"
      ],
      "text/plain": [
       "<IPython.core.display.Image object>"
      ]
     },
     "metadata": {
      "tags": []
     },
     "output_type": "display_data"
    },
    {
     "data": {
      "text/html": [
       "<img src=\"https://xcdn.next.co.uk/COMMON/Items/Default/Default/Publications/G82/shotview-315x472/10030/702-934s.jpg\"/>"
      ],
      "text/plain": [
       "<IPython.core.display.Image object>"
      ]
     },
     "metadata": {
      "tags": []
     },
     "output_type": "display_data"
    },
    {
     "data": {
      "text/html": [
       "<img src=\"https://xcdn.next.co.uk/COMMON/Items/Default/Default/Publications/G52/shotview-315x472/10161/852-324s.jpg\"/>"
      ],
      "text/plain": [
       "<IPython.core.display.Image object>"
      ]
     },
     "metadata": {
      "tags": []
     },
     "output_type": "display_data"
    }
   ],
   "source": [
    "checkClusters(26)"
   ]
  },
  {
   "cell_type": "markdown",
   "metadata": {
    "colab_type": "text",
    "id": "N4AmCNe7Cm6Q"
   },
   "source": [
    "* Cluster with kids top wears"
   ]
  },
  {
   "cell_type": "code",
   "execution_count": 0,
   "metadata": {
    "colab": {
     "base_uri": "https://localhost:8080/",
     "height": 1000
    },
    "colab_type": "code",
    "id": "Ul4F950j2L1m",
    "outputId": "1986d716-106c-4b87-d712-f0ef48981486"
   },
   "outputs": [
    {
     "data": {
      "text/html": [
       "<img src=\"https://xcdn.next.co.uk/Common/Items/Default/Default/ItemImages/AltItemShot/315x472/613114.jpg\"/>"
      ],
      "text/plain": [
       "<IPython.core.display.Image object>"
      ]
     },
     "metadata": {
      "tags": []
     },
     "output_type": "display_data"
    },
    {
     "data": {
      "text/html": [
       "<img src=\"https://xcdn.next.co.uk/Common/Items/Default/Default/ItemImages/AltItemShot/315x472/535981.jpg\"/>"
      ],
      "text/plain": [
       "<IPython.core.display.Image object>"
      ]
     },
     "metadata": {
      "tags": []
     },
     "output_type": "display_data"
    },
    {
     "data": {
      "text/html": [
       "<img src=\"https://xcdn.next.co.uk/Common/Items/Default/Default/ItemImages/AltItemShot/315x472/607150.jpg\"/>"
      ],
      "text/plain": [
       "<IPython.core.display.Image object>"
      ]
     },
     "metadata": {
      "tags": []
     },
     "output_type": "display_data"
    },
    {
     "data": {
      "text/html": [
       "<img src=\"https://xcdn.next.co.uk/Common/Items/Default/Default/ItemImages/AltItemShot/315x472/607798.jpg\"/>"
      ],
      "text/plain": [
       "<IPython.core.display.Image object>"
      ]
     },
     "metadata": {
      "tags": []
     },
     "output_type": "display_data"
    },
    {
     "data": {
      "text/html": [
       "<img src=\"https://xcdn.next.co.uk/Common/Items/Default/Default/ItemImages/AltItemShot/315x472/644757.jpg\"/>"
      ],
      "text/plain": [
       "<IPython.core.display.Image object>"
      ]
     },
     "metadata": {
      "tags": []
     },
     "output_type": "display_data"
    }
   ],
   "source": [
    "checkClusters(8)"
   ]
  },
  {
   "cell_type": "markdown",
   "metadata": {
    "colab_type": "text",
    "id": "931biIioCuBb"
   },
   "source": [
    "Cluster with kids footwears"
   ]
  },
  {
   "cell_type": "code",
   "execution_count": 0,
   "metadata": {
    "colab": {
     "base_uri": "https://localhost:8080/",
     "height": 1000
    },
    "colab_type": "code",
    "id": "cZFYHpdt2YG8",
    "outputId": "d27ea143-0fdf-40de-dcdd-38f5ede2513f"
   },
   "outputs": [
    {
     "data": {
      "text/html": [
       "<img src=\"https://xcdn.next.co.uk/COMMON/Items/Default/Default/Publications/G72/shotview-315x472/392/919-355s.jpg\"/>"
      ],
      "text/plain": [
       "<IPython.core.display.Image object>"
      ]
     },
     "metadata": {
      "tags": []
     },
     "output_type": "display_data"
    },
    {
     "data": {
      "text/html": [
       "<img src=\"https://xcdn.next.co.uk/COMMON/Items/Default/Default/Publications/G90/shotview-315x472/192/638-551s.jpg\"/>"
      ],
      "text/plain": [
       "<IPython.core.display.Image object>"
      ]
     },
     "metadata": {
      "tags": []
     },
     "output_type": "display_data"
    },
    {
     "data": {
      "text/html": [
       "<img src=\"https://xcdn.next.co.uk/COMMON/Items/Default/Default/Publications/G82/shotview-315x472/274/348-482s.jpg\"/>"
      ],
      "text/plain": [
       "<IPython.core.display.Image object>"
      ]
     },
     "metadata": {
      "tags": []
     },
     "output_type": "display_data"
    },
    {
     "data": {
      "text/html": [
       "<img src=\"https://xcdn.next.co.uk/Common/Items/Default/Default/ItemImages/AltItemShot/315x472/614096.jpg\"/>"
      ],
      "text/plain": [
       "<IPython.core.display.Image object>"
      ]
     },
     "metadata": {
      "tags": []
     },
     "output_type": "display_data"
    },
    {
     "data": {
      "text/html": [
       "<img src=\"https://xcdn.next.co.uk/COMMON/Items/Default/Default/Publications/G82/shotview-315x472/326/641-337s.jpg\"/>"
      ],
      "text/plain": [
       "<IPython.core.display.Image object>"
      ]
     },
     "metadata": {
      "tags": []
     },
     "output_type": "display_data"
    }
   ],
   "source": [
    "checkClusters(16)"
   ]
  },
  {
   "cell_type": "markdown",
   "metadata": {
    "colab_type": "text",
    "id": "TFZploAhCxv0"
   },
   "source": [
    "* Cluster with home decors or specific to flowers"
   ]
  },
  {
   "cell_type": "code",
   "execution_count": 0,
   "metadata": {
    "colab": {
     "base_uri": "https://localhost:8080/",
     "height": 1000
    },
    "colab_type": "code",
    "id": "jUI5a2cV2xKP",
    "outputId": "a76f384b-809f-442b-bf2a-da52ca3d4edd"
   },
   "outputs": [
    {
     "data": {
      "text/html": [
       "<img src=\"https://xcdn.next.co.uk/Common/Items/Default/Default/ItemImages/AltItemShot/315x472/552266.jpg\"/>"
      ],
      "text/plain": [
       "<IPython.core.display.Image object>"
      ]
     },
     "metadata": {
      "tags": []
     },
     "output_type": "display_data"
    },
    {
     "data": {
      "text/html": [
       "<img src=\"https://xcdn.next.co.uk/COMMON/Items/Default/Default/Publications/G72/shotview-315x472/3056/917-131s.jpg\"/>"
      ],
      "text/plain": [
       "<IPython.core.display.Image object>"
      ]
     },
     "metadata": {
      "tags": []
     },
     "output_type": "display_data"
    },
    {
     "data": {
      "text/html": [
       "<img src=\"https://xcdn.next.co.uk/Common/Items/Default/Default/ItemImages/AltItemShot/315x472/998102.jpg\"/>"
      ],
      "text/plain": [
       "<IPython.core.display.Image object>"
      ]
     },
     "metadata": {
      "tags": []
     },
     "output_type": "display_data"
    },
    {
     "data": {
      "text/html": [
       "<img src=\"https://xcdn.next.co.uk/Common/Items/Default/Default/ItemImages/AltItemShot/315x472/317211.jpg\"/>"
      ],
      "text/plain": [
       "<IPython.core.display.Image object>"
      ]
     },
     "metadata": {
      "tags": []
     },
     "output_type": "display_data"
    },
    {
     "data": {
      "text/html": [
       "<img src=\"https://xcdn.next.co.uk/COMMON/Items/Default/Default/Publications/G82/shotview-315x472/8015/604-646s.jpg\"/>"
      ],
      "text/plain": [
       "<IPython.core.display.Image object>"
      ]
     },
     "metadata": {
      "tags": []
     },
     "output_type": "display_data"
    }
   ],
   "source": [
    "checkClusters(0)"
   ]
  },
  {
   "cell_type": "markdown",
   "metadata": {
    "colab_type": "text",
    "id": "o8zT3t4lC7VD"
   },
   "source": [
    "#### We can say that cluster with help of 'brand_name', 'website_name' and 'tags' generated by description of product performed well."
   ]
  }
 ],
 "metadata": {
  "colab": {
   "collapsed_sections": [],
   "machine_shape": "hm",
   "name": "data_engineering.ipynb",
   "provenance": []
  },
  "kernelspec": {
   "display_name": "Python 3",
   "language": "python",
   "name": "python3"
  },
  "language_info": {
   "codemirror_mode": {
    "name": "ipython",
    "version": 3
   },
   "file_extension": ".py",
   "mimetype": "text/x-python",
   "name": "python",
   "nbconvert_exporter": "python",
   "pygments_lexer": "ipython3",
   "version": "3.7.3"
  }
 },
 "nbformat": 4,
 "nbformat_minor": 1
}
